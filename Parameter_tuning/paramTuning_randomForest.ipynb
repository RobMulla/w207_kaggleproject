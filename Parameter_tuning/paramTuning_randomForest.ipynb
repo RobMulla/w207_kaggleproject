{
 "cells": [
  {
   "cell_type": "code",
   "execution_count": 10,
   "metadata": {
    "collapsed": true
   },
   "outputs": [],
   "source": [
    "%matplotlib inline\n",
    "import pandas as pd\n",
    "import numpy as np\n",
    "import sklearn\n",
    "import matplotlib.pyplot as plt\n",
    "from datetime import datetime\n",
    "from pprint import pprint\n",
    "from time import time\n",
    "import logging\n",
    "from sklearn.model_selection import train_test_split\n",
    "# SK-learn libraries for learning.\n",
    "from sklearn.pipeline import Pipeline\n",
    "from sklearn.pipeline import FeatureUnion\n",
    "from sklearn.model_selection import GridSearchCV\n",
    "from sklearn.ensemble import RandomForestRegressor\n",
    "from sklearn.ensemble import GradientBoostingRegressor\n",
    "from sklearn import preprocessing\n",
    "\n",
    "#SK-learn libraries for transformation and pre-processing\n",
    "from sklearn.preprocessing import StandardScaler\n",
    "from sklearn.preprocessing import OneHotEncoder\n",
    "\n",
    "# Custom classes for this assignment\n",
    "import feature_engineering as fe"
   ]
  },
  {
   "cell_type": "code",
   "execution_count": 11,
   "metadata": {
    "collapsed": true
   },
   "outputs": [],
   "source": [
    "train_df = pd.read_csv('data/train.csv')\n",
    "test_df = pd.read_csv('data/test.csv')"
   ]
  },
  {
   "cell_type": "code",
   "execution_count": 21,
   "metadata": {
    "collapsed": false
   },
   "outputs": [],
   "source": [
    "# Define pipeline\n",
    "categorical = ('season', 'holiday', 'workingday', )\n",
    "# datetime isn't numerical, but needs to be in the numeric branch\n",
    "numerical = ('datetime', 'weather', 'temp', 'atemp', 'humidity', 'windspeed',)\n",
    "pipeline = Pipeline([\n",
    "    # process cat & num separately, then join back together\n",
    "    ('union', FeatureUnion([ \n",
    "        ('categorical', Pipeline([\n",
    "            ('select_cat', fe.SelectCols(cols = categorical)),\n",
    "            ('onehot', OneHotEncoder()),    \n",
    "        ])),    \n",
    "        ('numerical', Pipeline([\n",
    "            ('select_num', fe.SelectCols(cols = numerical)),\n",
    "            ('date', fe.DateFormatter()),\n",
    "            ('drop_datetime', fe.SelectCols(cols = ('datetime'), invert = True)),\n",
    "            ('temp', fe.ProcessNumerical(cols_to_square = ('temp', 'atemp', 'humidity'))),\n",
    "            # ('bad_weather', fe.BinarySplitter(col = 'weather', threshold = 2)),\n",
    "            # ('filter', fe.PassFilter(col='atemp', lb = 15, replacement_style = 'mean'))\n",
    "            ('scale', StandardScaler()),    \n",
    "        ])),    \n",
    "    ])),\n",
    "    ('clf', RandomForestRegressor(n_estimators = 100,\n",
    "                                  oob_score='TRUE',n_jobs = -1,random_state =50,)),\n",
    "#     ('clf', RandomForestRegressor(n_estimators=100,\n",
    "#                                   oob_score='TRUE',\n",
    "#                                   n_jobs = -1,\n",
    "#                                   random_state =50,\n",
    "#                                   max_features = \"auto\",\n",
    "#                                   min_samples_leaf = 50))\n",
    "])\n",
    "\n",
    "#Helper function to calculate root mean squared error\n",
    "def get_RMSE(actual_values, predicted_values):\n",
    "    n = len(actual_values)\n",
    "    RMSE = np.sqrt(np.sum(((np.log(predicted_values + 1) - np.log(actual_values + 1)) ** 2) / n))\n",
    "    return RMSE\n",
    "\n",
    "def train_dev_model_search(registered_or_casual,parameters):\n",
    "    print(\"Performing grid search...\")\n",
    "    t0 = time()\n",
    "    gs = GridSearchCV(pipeline, parameters, n_jobs=1, verbose=1, scoring='neg_mean_squared_error')\n",
    "    features = [c for c in train_df.columns if c not in ['count', 'casual', 'registered']]    \n",
    "    gs.fit(train_data[features], train_data[registered_or_casual])\n",
    "    print(\"Best parameters set:\")\n",
    "    best_param = gs.best_estimator_.get_params()\n",
    "    for param_name in sorted(parameters.keys()):\n",
    "        print(\"\\t%s: %r\" % (param_name, best_param[param_name]))\n",
    "    predicted_y = gs.predict(dev_data[features])\n",
    "    rmse = get_RMSE(actual_values = dev_data[registered_or_casual], predicted_values = predicted_y)\n",
    "    print \"RMSE: \", str(rmse)\n",
    "    print(\"Done in %0.3fs\" % (time() - t0))\n",
    "    print \"\""
   ]
  },
  {
   "cell_type": "code",
   "execution_count": 23,
   "metadata": {
    "collapsed": false
   },
   "outputs": [
    {
     "name": "stdout",
     "output_type": "stream",
     "text": [
      "Casual rides\n",
      "Performing grid search...\n",
      "Fitting 3 folds for each of 2 candidates, totalling 6 fits\n"
     ]
    },
    {
     "name": "stderr",
     "output_type": "stream",
     "text": [
      "[Parallel(n_jobs=1)]: Done   6 out of   6 | elapsed:   49.0s finished\n"
     ]
    },
    {
     "name": "stdout",
     "output_type": "stream",
     "text": [
      "Best parameters set:\n",
      "\tclf__n_estimators: 110\n",
      "RMSE:  0.557839186675\n",
      "Done in 63.370s\n",
      "\n",
      "Registered rides\n",
      "Performing grid search...\n",
      "Fitting 3 folds for each of 2 candidates, totalling 6 fits\n"
     ]
    },
    {
     "name": "stderr",
     "output_type": "stream",
     "text": [
      "[Parallel(n_jobs=1)]: Done   6 out of   6 | elapsed:   53.0s finished\n"
     ]
    },
    {
     "name": "stdout",
     "output_type": "stream",
     "text": [
      "Best parameters set:\n",
      "\tclf__n_estimators: 100\n",
      "RMSE:  0.323569850263\n",
      "Done in 67.816s\n",
      "\n"
     ]
    }
   ],
   "source": [
    "train_data = train_df[pd.DatetimeIndex(train_df['datetime']).day <= 16]\n",
    "dev_data = train_df[pd.DatetimeIndex(train_df['datetime']).day > 16]\n",
    "\t\n",
    "# Test for casual and registered separately\n",
    "parameters = {\n",
    "    'clf__n_estimators': (100,110,),\n",
    "#     'clf__learning_rate': (0.05,),\n",
    "#     'clf__max_depth': (10,),\n",
    "#     'clf__min_samples_leaf': (20,),\n",
    "}\n",
    "\n",
    "print \"Casual rides\"\n",
    "train_dev_model_search('casual',parameters)\n",
    "\n",
    "#     'clf__n_estimators': (80,),\n",
    "print \"Registered rides\"\n",
    "train_dev_model_search('registered',parameters)"
   ]
  },
  {
   "cell_type": "code",
   "execution_count": null,
   "metadata": {
    "collapsed": true
   },
   "outputs": [],
   "source": []
  }
 ],
 "metadata": {
  "kernelspec": {
   "display_name": "Python 2",
   "language": "python",
   "name": "python2"
  },
  "language_info": {
   "codemirror_mode": {
    "name": "ipython",
    "version": 2
   },
   "file_extension": ".py",
   "mimetype": "text/x-python",
   "name": "python",
   "nbconvert_exporter": "python",
   "pygments_lexer": "ipython2",
   "version": "2.7.13"
  }
 },
 "nbformat": 4,
 "nbformat_minor": 2
}
