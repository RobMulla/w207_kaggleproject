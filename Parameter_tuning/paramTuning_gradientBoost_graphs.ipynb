{
 "cells": [
  {
   "cell_type": "code",
   "execution_count": 48,
   "metadata": {
    "collapsed": true
   },
   "outputs": [],
   "source": [
    "%matplotlib inline\n",
    "import pandas as pd\n",
    "import numpy as np\n",
    "import sklearn\n",
    "import matplotlib.pyplot as plt\n",
    "from datetime import datetime\n",
    "from pprint import pprint\n",
    "from time import time\n",
    "import logging\n",
    "from sklearn.model_selection import train_test_split\n",
    "# SK-learn libraries for learning.\n",
    "from sklearn.pipeline import Pipeline\n",
    "from sklearn.pipeline import FeatureUnion\n",
    "from sklearn.model_selection import GridSearchCV\n",
    "from sklearn.ensemble import RandomForestRegressor\n",
    "from sklearn.ensemble import GradientBoostingRegressor\n",
    "from sklearn import preprocessing\n",
    "\n",
    "#SK-learn libraries for transformation and pre-processing\n",
    "from sklearn.preprocessing import StandardScaler\n",
    "from sklearn.preprocessing import OneHotEncoder\n",
    "from sklearn.metrics import make_scorer\n"
   ]
  },
  {
   "cell_type": "code",
   "execution_count": 102,
   "metadata": {
    "collapsed": true
   },
   "outputs": [],
   "source": [
    "#!/usr/bin/env python\n",
    "# -*- coding: utf-8 -*-\n",
    "\n",
    "from sklearn.base import BaseEstimator, TransformerMixin\n",
    "import pandas as pd\n",
    "import numpy as np\n",
    "\n",
    "class PipelineEstimator(BaseEstimator, TransformerMixin):\n",
    "    \"\"\"Define the necessary methods\"\"\"\n",
    "\n",
    "    def __init__(self):\n",
    "        pass\n",
    "\n",
    "\n",
    "    def fit(self, X, y = None):\n",
    "        return self\n",
    "\n",
    "\n",
    "    def transform(self, X, y = None):\n",
    "        return X\n",
    "\n",
    "\n",
    "class ProcessNumerical(PipelineEstimator):\n",
    "\n",
    "    def __init__(self, cols_to_square = (), cols_to_log = ()):\n",
    "        self.cols_to_square = cols_to_square\n",
    "        self.cols_to_log = cols_to_log\n",
    "\n",
    "\n",
    "    def square(self, X):\n",
    "        for col in self.cols_to_square:\n",
    "            X[col + '_sq'] = np.square(X[col])\n",
    "        return X\n",
    "\n",
    "\n",
    "    def log(self, X):\n",
    "        for col in self.cols_to_log:\n",
    "            X[col + '_log'] = np.log(X[col])\n",
    "        return X\n",
    "\n",
    "\n",
    "    def transform(self, X, y = None):\n",
    "        \"\"\"Square or log given numerical columns\"\"\"\n",
    "        X = self.square(X)\n",
    "        X = self.log(X)\n",
    "\n",
    "        return X\n",
    "\n",
    "\n",
    "class DateFormatter(PipelineEstimator):\n",
    "    \"\"\"Parse datetime into its component parts\"\"\"\n",
    "\n",
    "    def __init__(self):\n",
    "        pass\n",
    "\n",
    "\n",
    "    def transform(self, X, y = None):\n",
    "        \"\"\"Split the datetime into its component parts.\"\"\"\n",
    "        X['year'] = pd.DatetimeIndex(X['datetime']).year\n",
    "        X['month'] = pd.DatetimeIndex(X['datetime']).month\n",
    "        X['hour'] = pd.DatetimeIndex(X['datetime']).hour\n",
    "        X['weekday'] = pd.DatetimeIndex(X['datetime']).weekday\n",
    "#         # Change the index to datetime\n",
    "#         X.set_index(pd.DatetimeIndex(X['datetime']), inplace=True)\n",
    "#         # Create new day and time related features\n",
    "#         X['date'] = pd.DatetimeIndex(X['datetime']).strftime(\"%Y%m%d\")\n",
    "#         X['day'] = pd.DatetimeIndex(X['datetime']).strftime(\"%j\")\n",
    "#         X['month1'] = pd.DatetimeIndex(X['datetime']).strftime(\"%m\")\n",
    "#         # X['month2'] = pd.DatetimeIndex(X['datetime']).strftime(\"%B\")\n",
    "#         X['year'] = pd.DatetimeIndex(X['datetime']).strftime(\"%Y\")\n",
    "#         X['hour'] = pd.DatetimeIndex(X['datetime']).strftime(\"%H\")\n",
    "#         X['dow1'] = pd.DatetimeIndex(X['datetime']).strftime(\"%w\")\n",
    "#         # X['dow2'] = pd.DatetimeIndex(X['datetime']).strftime(\"%A\")\n",
    "#         X['woy'] = pd.DatetimeIndex(X['datetime']).strftime(\"%W\")\n",
    "        return X\n",
    "\n",
    "\n",
    "\n",
    "class SelectCols(PipelineEstimator):\n",
    "    \"\"\"Return only specified columnss\"\"\"\n",
    "\n",
    "    def __init__(self, cols = (), invert = False):\n",
    "        self.cols = cols\n",
    "        self.invert = invert\n",
    "\n",
    "\n",
    "    def transform(self, X, y = None):\n",
    "        mask = np.array([True if col in self.cols else False for col in X.columns])\n",
    "        if self.invert:\n",
    "            mask = np.invert(mask)\n",
    "        return X.loc[:, mask]\n",
    "\n",
    "\n",
    "class BinarySplitter(PipelineEstimator):\n",
    "    \"\"\"Binarize a feature and add that as a new feature\"\"\"\n",
    "\n",
    "    def __init__(self, col, threshold, new_name = None):\n",
    "        \"\"\"Split col based on threshold\"\"\"\n",
    "        self.col = col\n",
    "        self.threshold = threshold\n",
    "        self.new_name = new_name or col + \"_bin\"\n",
    "\n",
    "\n",
    "    def transform(self, X, y = None):\n",
    "        X[self.new_name] = X[self.col] >= self.threshold\n",
    "        return X\n",
    "\n",
    "\n",
    "class PassFilter(PipelineEstimator):\n",
    "    \"\"\"Low, hi, or bandpass filter\n",
    "    If you supply:\n",
    "    a lowerbound (lb): you will get a high pass filter.\n",
    "    an upperbound (ub): you will get a low pass filter.\n",
    "    both lb and ub: you will get a band pass filter.\n",
    "    \n",
    "    You may specify the values you want to replace values that do not\n",
    "    pass. If neither the replacements nor the replacement style are\n",
    "    supplied, then the low values will be replaced with the lb, and\n",
    "    high values with the ub.\n",
    "    If you specify the replacement style to be:\n",
    "    'med': Values will be replaced by the median of the values that do\n",
    "    not pass on that side\n",
    "    'mean': Ditto, but with the mean\n",
    "    'minmax': The minimum value out of the low values, and the max of\n",
    "    the high values\n",
    "    \"\"\"\n",
    "\n",
    "    def __init__(self, col, lb = None, ub = None, new_name = None,\n",
    "                 lb_replacement = None, ub_replacement = None,\n",
    "                 replacement_style = None):\n",
    "        self.col = col\n",
    "        self.lb  = lb\n",
    "        self.ub  = ub\n",
    "        self.new_name = new_name or col + \"_filt\"\n",
    "        self.lb_replacement = lb_replacement\n",
    "        self.ub_replacement = ub_replacement\n",
    "        self.replacement_style = replacement_style\n",
    "\n",
    "\n",
    "    def fit(self, X, y = None):\n",
    "        \"\"\"Determine replacement values if none given\"\"\"\n",
    "        if self.lb and self.lb_replacement is None:\n",
    "\n",
    "            if self.replacement_style == 'min_max':\n",
    "                self.lb_replacement = np.min(X[self.col])\n",
    "\n",
    "            elif self.replacement_style == 'med':\n",
    "                med = np.nanmedian(\n",
    "                    np.where(X[self.col] < self.lb, X[self.col], np.nan))\n",
    "                self.lb_replacement = med\n",
    "\n",
    "            elif self.replacement_style == 'mean':\n",
    "                mean = np.nanmean(\n",
    "                    np.where(X[self.col] < self.lb, X[self.col], np.nan))\n",
    "                self.lb_replacement = mean\n",
    "\n",
    "            else:\n",
    "                self.lb_replacement = self.lb\n",
    "\n",
    "\n",
    "        if self.ub and self.ub_replacement is None:\n",
    "\n",
    "            if self.replacement_style == 'min_max':\n",
    "                self.ub_replacement = np.max(X[self.col])\n",
    "\n",
    "            elif self.replacement_style == 'med':\n",
    "                med = np.nanmedian(\n",
    "                    np.where(X[self.col] > self.ub, X[self.col], np.nan))\n",
    "                self.ub_replacement = med\n",
    "\n",
    "            elif self.replacement_style == 'mean':\n",
    "                mean = np.nanmean(\n",
    "                    np.where(X[self.col] > self.ub, X[self.col], np.nan))\n",
    "                self.ub_replacement = mean\n",
    "\n",
    "            else:\n",
    "                self.ub_replacement = self.ub\n",
    "\n",
    "        return self\n",
    "        \n",
    "    def transform(self, X, y = None):\n",
    "        X[self.new_name] = X[self.col]\n",
    "\n",
    "        if self.lb:\n",
    "            X[self.new_name] = np.where(\n",
    "                X[self.new_name] < self.lb, self.lb_replacement, X[self.new_name]\n",
    "            )\n",
    "\n",
    "        if self.ub:\n",
    "            X[self.new_name] = np.where(\n",
    "                X[self.new_name] > self.ub, self.ub_replacement, X[self.new_name]\n",
    "            )\n",
    "\n",
    "        return X"
   ]
  },
  {
   "cell_type": "code",
   "execution_count": 103,
   "metadata": {
    "collapsed": true
   },
   "outputs": [],
   "source": [
    "train_df = pd.read_csv('data/train.csv')\n",
    "test_df = pd.read_csv('data/test.csv')"
   ]
  },
  {
   "cell_type": "code",
   "execution_count": 111,
   "metadata": {
    "collapsed": false
   },
   "outputs": [],
   "source": [
    "features = ['season', 'holiday', 'workingday', 'weather',\n",
    "        'temp', 'atemp', 'humidity', 'windspeed', 'year',\n",
    "         'month', 'weekday', 'hour']\n",
    "\n",
    "# Define pipeline\n",
    "categorical = ('season', 'holiday', 'workingday', )\n",
    "# datetime isn't numerical, but needs to be in the numeric branch\n",
    "numerical = ('datetime', 'weather', 'temp', 'atemp', 'humidity', 'windspeed',)\n",
    "pipeline = Pipeline([\n",
    "    # process cat & num separately, then join back together\n",
    "    ('union', FeatureUnion([ \n",
    "        ('categorical', Pipeline([\n",
    "            ('select_cat', SelectCols(cols = categorical)),\n",
    "            ('onehot', OneHotEncoder()),    \n",
    "        ])),    \n",
    "        ('numerical', Pipeline([\n",
    "            ('select_num', SelectCols(cols = numerical)),\n",
    "            ('date', DateFormatter()),\n",
    "            ('drop_datetime', SelectCols(cols = ('datetime'), invert = True)),\n",
    "            ('drop_weather', SelectCols(cols = ('weather'), invert = True)),\n",
    "#             ('temp', fe.ProcessNumerical(cols_to_square = ('temp', 'atemp', 'humidity'))),\n",
    "            # ('bad_weather', fe.BinarySplitter(col = 'weather', threshold = 2)),\n",
    "            # ('filter', fe.PassFilter(col='atemp', lb = 15, replacement_style = 'mean'))\n",
    "            ('scale', StandardScaler()),    \n",
    "        ])),    \n",
    "    ])),\n",
    "    ('to_dense', preprocessing.FunctionTransformer(lambda x: x.todense(), accept_sparse=True)), \n",
    "])\n",
    "\n",
    "#Helper function to calculate root mean squared error\n",
    "def get_RMSE(actual_values, predicted_values):\n",
    "    n = len(actual_values)\n",
    "    RMSE = np.sqrt(np.sum(((np.log(predicted_values + 1) - np.log(actual_values + 1)) ** 2) / n))\n",
    "    return RMSE\n",
    "\n",
    "#create custom scorer\n",
    "RMSE_scorer = make_scorer(get_RMSE, greater_is_better = False)\n",
    "\n",
    "# Split into Dev and Train data and find best parameters\n",
    "features = [c for c in train_df.columns if c not in ['count', 'casual', 'registered']]    \n",
    "def train_dev_model_search(registered_or_casual,parameters):\n",
    "    print(\"Performing grid search...\")\n",
    "    t0 = time()\n",
    "    gs = GridSearchCV(pipeline, parameters, n_jobs=1, verbose=1, scoring=RMSE_scorer)\n",
    "    gs.fit(train_data[features], train_data[registered_or_casual])\n",
    "    print(\"Best parameters set:\")\n",
    "    best_param = gs.best_estimator_.get_params()\n",
    "    for param_name in sorted(parameters.keys()):\n",
    "        print(\"\\t%s: %r\" % (param_name, best_param[param_name]))\n",
    "    predicted_y = gs.predict(dev_data[features])\n",
    "    print \"GridSearch RMSE \" + str(gs.best_score_)\n",
    "    rmse = get_RMSE(actual_values = dev_data[registered_or_casual], predicted_values = predicted_y)\n",
    "    print \"RMSE: \", str(rmse)\n",
    "    print(\"Done in %0.3fs\" % (time() - t0))\n",
    "    print \"\""
   ]
  },
  {
   "cell_type": "code",
   "execution_count": 112,
   "metadata": {
    "collapsed": false
   },
   "outputs": [
    {
     "name": "stderr",
     "output_type": "stream",
     "text": [
      "/anaconda/lib/python2.7/site-packages/ipykernel/__main__.py:59: SettingWithCopyWarning: \n",
      "A value is trying to be set on a copy of a slice from a DataFrame.\n",
      "Try using .loc[row_indexer,col_indexer] = value instead\n",
      "\n",
      "See the caveats in the documentation: http://pandas.pydata.org/pandas-docs/stable/indexing.html#indexing-view-versus-copy\n",
      "/anaconda/lib/python2.7/site-packages/ipykernel/__main__.py:60: SettingWithCopyWarning: \n",
      "A value is trying to be set on a copy of a slice from a DataFrame.\n",
      "Try using .loc[row_indexer,col_indexer] = value instead\n",
      "\n",
      "See the caveats in the documentation: http://pandas.pydata.org/pandas-docs/stable/indexing.html#indexing-view-versus-copy\n"
     ]
    }
   ],
   "source": [
    "\t\n",
    "# Test for casual and registered separately\n",
    "# parameters = {\n",
    "#     'clf__n_estimators': (70,80,90,100,110,120,),\n",
    "#     'clf__learning_rate': (0.05,),\n",
    "#     'clf__max_depth': (10,),\n",
    "#     'clf__min_samples_leaf': (20,),\n",
    "# }\n",
    "\n",
    "row_format = \"{:>10}\" *(6) # Code to help with print display\n",
    "\n",
    "train_data = train_df[pd.DatetimeIndex(train_df['datetime']).day <= 16]\n",
    "dev_data = train_df[pd.DatetimeIndex(train_df['datetime']).day > 16]\n",
    "\n",
    "features = [c for c in train_df.columns if c not in ['count', 'casual', 'registered']] \n",
    "fe_train_data = pipeline.fit_transform(train_data[features])\n",
    "fe_dev_data = pipeline.fit_transform(dev_data[features])"
   ]
  },
  {
   "cell_type": "code",
   "execution_count": 113,
   "metadata": {
    "collapsed": false
   },
   "outputs": [
    {
     "name": "stdout",
     "output_type": "stream",
     "text": [
      "n_estimator        70      RMSE     0.573   Runtime     2.955\n",
      "n_estimator        75      RMSE     0.562   Runtime     2.993\n",
      "n_estimator        80      RMSE     0.554   Runtime      3.18\n",
      "n_estimator        85      RMSE      0.56   Runtime     3.291\n"
     ]
    },
    {
     "name": "stderr",
     "output_type": "stream",
     "text": [
      "/anaconda/lib/python2.7/site-packages/ipykernel/__main__.py:33: RuntimeWarning: invalid value encountered in log\n"
     ]
    },
    {
     "name": "stdout",
     "output_type": "stream",
     "text": [
      "n_estimator        90      RMSE     0.548   Runtime     3.453\n",
      "n_estimator        95      RMSE     0.538   Runtime      3.59\n",
      "n_estimator       100      RMSE     0.538   Runtime     3.732\n",
      "n_estimator       105      RMSE      0.54   Runtime     3.834\n",
      "n_estimator       110      RMSE     0.538   Runtime     4.045\n",
      "n_estimator       115      RMSE     0.541   Runtime     4.107\n",
      "n_estimator       120      RMSE     0.541   Runtime     4.141\n",
      "n_estimator       125      RMSE     0.547   Runtime     4.357\n",
      "n_estimator       130      RMSE      0.56   Runtime     4.731\n",
      "n_estimator       135      RMSE     0.543   Runtime     4.708\n",
      "n_estimator       140      RMSE     0.543   Runtime     4.661\n"
     ]
    },
    {
     "data": {
      "image/png": "[encoded data removed]",
      "text/plain": [
       "<matplotlib.figure.Figure at 0x1125309d0>"
      ]
     },
     "metadata": {},
     "output_type": "display_data"
    }
   ],
   "source": [
    "registered_or_casual='casual'\n",
    "n_estimators=[70,75,80,85,90,95,100,105,110,115,120,125,130,135,140]\n",
    "\n",
    "rmse_list=[]\n",
    "for i in n_estimators:\n",
    "    t0 = time()\n",
    "    gb = GradientBoostingRegressor(\n",
    "                      n_estimators=i,\n",
    "                      learning_rate=0.05,\n",
    "                      max_depth=10,                      \n",
    "                      min_samples_leaf=20,\n",
    "                      random_state=2)\n",
    "    gb.fit(fe_train_data, train_data[registered_or_casual])\n",
    "    predicted_y = gb.predict(fe_dev_data)\n",
    "    rmse = get_RMSE(actual_values = dev_data[registered_or_casual], predicted_values = predicted_y)\n",
    "    rmse_list.append(round(rmse,3))\n",
    "    print row_format.format(\"n_estimator\", i, \"RMSE\", round(rmse,3),\n",
    "                            \"Runtime\", round((time() - t0),3))\n",
    "plt.plot(n_estimators,rmse_list)\n",
    "plt.show()"
   ]
  },
  {
   "cell_type": "code",
   "execution_count": 108,
   "metadata": {
    "collapsed": false
   },
   "outputs": [
    {
     "name": "stdout",
     "output_type": "stream",
     "text": [
      "learning_rate      0.01      RMSE     1.075   Runtime     5.399\n",
      "learning_rate      0.02      RMSE     0.727   Runtime     4.996\n",
      "learning_rate      0.03      RMSE     0.577   Runtime     5.418\n"
     ]
    },
    {
     "name": "stderr",
     "output_type": "stream",
     "text": [
      "/anaconda/lib/python2.7/site-packages/ipykernel/__main__.py:32: RuntimeWarning: invalid value encountered in log\n"
     ]
    },
    {
     "name": "stdout",
     "output_type": "stream",
     "text": [
      "learning_rate      0.04      RMSE     0.549   Runtime     4.552\n",
      "learning_rate     0.045      RMSE     0.536   Runtime      4.85\n",
      "learning_rate      0.05      RMSE      0.55   Runtime     4.615\n",
      "learning_rate     0.055      RMSE     0.543   Runtime     4.299\n",
      "learning_rate      0.06      RMSE     0.548   Runtime     4.252\n",
      "learning_rate      0.07      RMSE     0.558   Runtime     4.028\n",
      "learning_rate      0.08      RMSE     0.542   Runtime     3.898\n",
      "learning_rate      0.09      RMSE     0.571   Runtime      3.61\n",
      "learning_rate       0.1      RMSE      0.57   Runtime     3.447\n",
      "learning_rate       0.2      RMSE     0.598   Runtime     2.886\n",
      "learning_rate       0.3      RMSE     0.655   Runtime     2.999\n",
      "learning_rate       0.4      RMSE     0.676   Runtime     3.053\n"
     ]
    },
    {
     "data": {
      "image/png": "[encoded data removed]",
      "text/plain": [
       "<matplotlib.figure.Figure at 0x1129e4250>"
      ]
     },
     "metadata": {},
     "output_type": "display_data"
    }
   ],
   "source": [
    "registered_or_casual='casual'\n",
    "learning_rate=[.01,.02,.03,.04,.045,.05,.055,.06,.07,.08,.09,.1,.2,.3,.4]\n",
    "\n",
    "rmse_list=[]\n",
    "for i in learning_rate:\n",
    "    t0 = time()\n",
    "    gb = GradientBoostingRegressor(\n",
    "                      n_estimators=115,\n",
    "                      learning_rate=i,\n",
    "                      max_depth=10,                      \n",
    "                      min_samples_leaf=20,\n",
    "                      random_state=2)\n",
    "    gb.fit(fe_train_data, train_data[registered_or_casual])\n",
    "    predicted_y = gb.predict(fe_dev_data)\n",
    "    rmse = get_RMSE(actual_values = dev_data[registered_or_casual], predicted_values = predicted_y)\n",
    "    rmse_list.append(round(rmse,3))\n",
    "    print row_format.format(\"learning_rate\", i, \"RMSE\", round(rmse,3),\n",
    "                            \"Runtime\", round((time() - t0),3))\n",
    "plt.plot(learning_rate,rmse_list)\n",
    "plt.show()"
   ]
  },
  {
   "cell_type": "code",
   "execution_count": 109,
   "metadata": {
    "collapsed": false
   },
   "outputs": [
    {
     "name": "stderr",
     "output_type": "stream",
     "text": [
      "/anaconda/lib/python2.7/site-packages/ipykernel/__main__.py:32: RuntimeWarning: invalid value encountered in log\n"
     ]
    },
    {
     "name": "stdout",
     "output_type": "stream",
     "text": [
      " max_depth         1      RMSE      1.07   Runtime     0.203\n",
      " max_depth         2      RMSE     0.856   Runtime     0.339\n",
      " max_depth         3      RMSE     0.778   Runtime     0.564\n",
      " max_depth         4      RMSE     0.714   Runtime     0.841\n",
      " max_depth         5      RMSE     0.702   Runtime     1.307\n",
      " max_depth         6      RMSE     0.599   Runtime     1.849\n",
      " max_depth         7      RMSE     0.573   Runtime     2.374\n",
      " max_depth         8      RMSE     0.555   Runtime     3.105\n",
      " max_depth         9      RMSE     0.543   Runtime     3.733\n",
      " max_depth        10      RMSE      0.55   Runtime     4.383\n",
      " max_depth        11      RMSE     0.546   Runtime       5.0\n",
      " max_depth        12      RMSE     0.539   Runtime     5.481\n",
      " max_depth        13      RMSE     0.551   Runtime     5.771\n",
      " max_depth        14      RMSE     0.539   Runtime     5.836\n",
      " max_depth        15      RMSE     0.557   Runtime     6.091\n",
      " max_depth        16      RMSE     0.547   Runtime     6.258\n",
      " max_depth        17      RMSE     0.562   Runtime     6.329\n",
      " max_depth        18      RMSE     0.561   Runtime     6.531\n",
      " max_depth        19      RMSE     0.554   Runtime     6.543\n",
      " max_depth        20      RMSE     0.557   Runtime     6.431\n"
     ]
    },
    {
     "data": {
      "image/png": "[encoded data removed]",
      "text/plain": [
       "<matplotlib.figure.Figure at 0x113ff95d0>"
      ]
     },
     "metadata": {},
     "output_type": "display_data"
    }
   ],
   "source": [
    "registered_or_casual='casual'\n",
    "max_depth=[1,2,3,4,5,6,7,8,9,10,11,12,13,14,15,16,17,18,19,20]\n",
    "\n",
    "rmse_list=[]\n",
    "for i in max_depth:\n",
    "    t0 = time()\n",
    "    gb = GradientBoostingRegressor(\n",
    "                      n_estimators=115,\n",
    "                      learning_rate=0.05,\n",
    "                      max_depth=i,                      \n",
    "                      min_samples_leaf=20,\n",
    "                      random_state=2)\n",
    "    gb.fit(fe_train_data, train_data[registered_or_casual])\n",
    "    predicted_y = gb.predict(fe_dev_data)\n",
    "    rmse = get_RMSE(actual_values = dev_data[registered_or_casual], predicted_values = predicted_y)\n",
    "    rmse_list.append(round(rmse,3))\n",
    "    print row_format.format(\"max_depth\", i, \"RMSE\", round(rmse,3),\n",
    "                            \"Runtime\", round((time() - t0),3))\n",
    "plt.plot(max_depth,rmse_list)\n",
    "plt.show()"
   ]
  },
  {
   "cell_type": "code",
   "execution_count": 110,
   "metadata": {
    "collapsed": false
   },
   "outputs": [
    {
     "name": "stdout",
     "output_type": "stream",
     "text": [
      "min_samples_leaf         1      RMSE     0.557   Runtime    10.503\n",
      "min_samples_leaf         5      RMSE     0.566   Runtime     7.621\n"
     ]
    },
    {
     "name": "stderr",
     "output_type": "stream",
     "text": [
      "/anaconda/lib/python2.7/site-packages/ipykernel/__main__.py:32: RuntimeWarning: invalid value encountered in log\n"
     ]
    },
    {
     "name": "stdout",
     "output_type": "stream",
     "text": [
      "min_samples_leaf        10      RMSE     0.548   Runtime     6.031\n",
      "min_samples_leaf        15      RMSE     0.545   Runtime     5.121\n",
      "min_samples_leaf        20      RMSE      0.55   Runtime      4.57\n",
      "min_samples_leaf        25      RMSE     0.546   Runtime     4.133\n",
      "min_samples_leaf        30      RMSE     0.548   Runtime      3.76\n",
      "min_samples_leaf        35      RMSE     0.584   Runtime     3.502\n"
     ]
    },
    {
     "data": {
      "image/png": "[encoded data removed]",
      "text/plain": [
       "<matplotlib.figure.Figure at 0x112eb2e90>"
      ]
     },
     "metadata": {},
     "output_type": "display_data"
    }
   ],
   "source": [
    "registered_or_casual='casual'\n",
    "min_samples_leaf=[1,5,10,15,20,25,30,35]\n",
    "\n",
    "rmse_list=[]\n",
    "for i in min_samples_leaf:\n",
    "    t0 = time()\n",
    "    gb = GradientBoostingRegressor(\n",
    "                      n_estimators=115,\n",
    "                      learning_rate=0.05,\n",
    "                      max_depth=10,                      \n",
    "                      min_samples_leaf=i,\n",
    "                      random_state=2)\n",
    "    gb.fit(fe_train_data, train_data[registered_or_casual])\n",
    "    predicted_y = gb.predict(fe_dev_data)\n",
    "    rmse = get_RMSE(actual_values = dev_data[registered_or_casual], predicted_values = predicted_y)\n",
    "    rmse_list.append(round(rmse,3))\n",
    "    print row_format.format(\"min_samples_leaf\", i, \"RMSE\", round(rmse,3),\n",
    "                            \"Runtime\", round((time() - t0),3))\n",
    "plt.plot(min_samples_leaf,rmse_list)\n",
    "plt.show()"
   ]
  },
  {
   "cell_type": "code",
   "execution_count": 114,
   "metadata": {
    "collapsed": false
   },
   "outputs": [
    {
     "name": "stderr",
     "output_type": "stream",
     "text": [
      "/anaconda/lib/python2.7/site-packages/ipykernel/__main__.py:33: RuntimeWarning: invalid value encountered in log\n"
     ]
    },
    {
     "name": "stdout",
     "output_type": "stream",
     "text": [
      "n_estimator        70      RMSE     0.407   Runtime     2.945\n",
      "n_estimator        75      RMSE      0.37   Runtime     3.115\n",
      "n_estimator        80      RMSE     0.354   Runtime     3.304\n",
      "n_estimator        85      RMSE     0.342   Runtime      3.35\n",
      "n_estimator        90      RMSE     0.336   Runtime     3.508\n",
      "n_estimator        95      RMSE     0.332   Runtime     3.651\n",
      "n_estimator       100      RMSE     0.331   Runtime     3.806\n",
      "n_estimator       105      RMSE     0.331   Runtime     3.935\n",
      "n_estimator       110      RMSE     0.334   Runtime     4.055\n",
      "n_estimator       115      RMSE     0.337   Runtime     4.201\n",
      "n_estimator       120      RMSE     0.351   Runtime     4.298\n",
      "n_estimator       125      RMSE     0.354   Runtime     4.388\n",
      "n_estimator       130      RMSE     0.351   Runtime     4.551\n",
      "n_estimator       135      RMSE     0.358   Runtime     4.667\n",
      "n_estimator       140      RMSE     0.365   Runtime     4.784\n"
     ]
    },
    {
     "data": {
      "image/png": "[encoded data removed]",
      "text/plain": [
       "<matplotlib.figure.Figure at 0x113379e90>"
      ]
     },
     "metadata": {},
     "output_type": "display_data"
    }
   ],
   "source": [
    "registered_or_casual='registered'\n",
    "n_estimators=[70,75,80,85,90,95,100,105,110,115,120,125,130,135,140]\n",
    "\n",
    "rmse_list=[]\n",
    "for i in n_estimators:\n",
    "    t0 = time()\n",
    "    gb = GradientBoostingRegressor(\n",
    "                      n_estimators=i,\n",
    "                      learning_rate=0.05,\n",
    "                      max_depth=10,                      \n",
    "                      min_samples_leaf=20,\n",
    "                      random_state=2)\n",
    "    gb.fit(fe_train_data, train_data[registered_or_casual])\n",
    "    predicted_y = gb.predict(fe_dev_data)\n",
    "    rmse = get_RMSE(actual_values = dev_data[registered_or_casual], predicted_values = predicted_y)\n",
    "    rmse_list.append(round(rmse,3))\n",
    "    print row_format.format(\"n_estimator\", i, \"RMSE\", round(rmse,3),\n",
    "                            \"Runtime\", round((time() - t0),3))\n",
    "plt.plot(n_estimators,rmse_list)\n",
    "plt.show()"
   ]
  },
  {
   "cell_type": "code",
   "execution_count": null,
   "metadata": {
    "collapsed": true
   },
   "outputs": [],
   "source": []
  },
  {
   "cell_type": "code",
   "execution_count": null,
   "metadata": {
    "collapsed": true
   },
   "outputs": [],
   "source": []
  }
 ],
 "metadata": {
  "kernelspec": {
   "display_name": "Python [conda env:Machine_learning_python2]",
   "language": "python",
   "name": "conda-env-Machine_learning_python2-py"
  },
  "language_info": {
   "codemirror_mode": {
    "name": "ipython",
    "version": 2
   },
   "file_extension": ".py",
   "mimetype": "text/x-python",
   "name": "python",
   "nbconvert_exporter": "python",
   "pygments_lexer": "ipython2",
   "version": "2.7.13"
  }
 },
 "nbformat": 4,
 "nbformat_minor": 2
}
