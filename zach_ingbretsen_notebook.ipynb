{
 "cells": [
  {
   "cell_type": "markdown",
   "metadata": {
    "ein.tags": [
     "worksheet-0"
    ],
    "slideshow": {
     "slide_type": "-"
    }
   },
   "source": [
    "Import the required modules"
   ]
  },
  {
   "cell_type": "code",
   "execution_count": 2,
   "metadata": {
    "autoscroll": "json-false",
    "collapsed": false,
    "ein.tags": [
     "worksheet-0"
    ],
    "slideshow": {
     "slide_type": "-"
    }
   },
   "outputs": [
    {
     "name": "stderr",
     "output_type": "stream",
     "text": [
      "/Users/zingbretsen/anaconda/lib/python2.7/site-packages/matplotlib/font_manager.py:273: UserWarning: Matplotlib is building the font cache using fc-list. This may take a moment.\n",
      "  warnings.warn('Matplotlib is building the font cache using fc-list. This may take a moment.')\n"
     ]
    }
   ],
   "source": [
    "%matplotlib inline\n",
    "import pandas as pd\n",
    "import numpy as np\n",
    "import sklearn\n",
    "import matplotlib.pyplot as plt\n",
    "from datetime import datetime\n",
    "from pprint import pprint\n",
    "from time import time\n",
    "import logging\n",
    "from sklearn.model_selection import train_test_split\n",
    "# SK-learn libraries for learning.\n",
    "from sklearn.pipeline import Pipeline\n",
    "from sklearn.pipeline import FeatureUnion\n",
    "from sklearn.model_selection import GridSearchCV\n",
    "from sklearn.ensemble import RandomForestRegressor\n",
    "\n",
    "#SK-learn libraries for transformation and pre-processing\n",
    "from sklearn.preprocessing import StandardScaler\n",
    "from sklearn.preprocessing import OneHotEncoder\n",
    "\n",
    "# Custom classes for this assignment\n",
    "from kaggle import feature_engineering as fe\n"
   ]
  },
  {
   "cell_type": "markdown",
   "metadata": {
    "ein.tags": [
     "worksheet-0"
    ],
    "slideshow": {
     "slide_type": "-"
    }
   },
   "source": [
    "Load in our data"
   ]
  },
  {
   "cell_type": "code",
   "execution_count": 3,
   "metadata": {
    "autoscroll": "json-false",
    "collapsed": false,
    "ein.tags": [
     "worksheet-0"
    ],
    "slideshow": {
     "slide_type": "-"
    }
   },
   "outputs": [],
   "source": [
    "train_df = pd.read_csv('data/train.csv')\n",
    "test_df = pd.read_csv('data/test.csv')\n",
    "\n",
    "targets = ['count', 'casual', 'registered']\n",
    "predictors = [c for c in train_df.columns if c not in targets]\n",
    "\n",
    "y_count = train_df[['count']]\n",
    "y_casual = train_df[['casual']]\n",
    "y_registered = train_df[['registered']]\n",
    "\n",
    "X_train, X_dev, y_count_train, y_count_dev, y_casual_train, y_casual_dev, y_registered_train, y_registered_dev = train_test_split(train_df, y_count, y_casual, y_registered, random_state=2)\n"
   ]
  },
  {
   "cell_type": "markdown",
   "metadata": {
    "ein.tags": [
     "worksheet-0"
    ],
    "slideshow": {
     "slide_type": "-"
    }
   },
   "source": [
    "We can define our pipeline here"
   ]
  },
  {
   "cell_type": "code",
   "execution_count": 7,
   "metadata": {
    "autoscroll": "json-false",
    "collapsed": false,
    "ein.tags": [
     "worksheet-0"
    ],
    "slideshow": {
     "slide_type": "-"
    }
   },
   "outputs": [],
   "source": [
    "categorical = ('season', 'holiday', 'workingday', )\n",
    "# datetime isn't numerical, but needs to be in the numeric branch\n",
    "numerical = ('datetime', 'weather', 'temp', 'atemp', 'humidity', 'windspeed',)\n",
    "pipeline = Pipeline([\n",
    "    # process cat & num separately, then join back together\n",
    "    ('union', FeatureUnion([ \n",
    "        ('categorical', Pipeline([\n",
    "            ('select_cat', fe.SelectCols(cols = categorical)),\n",
    "            ('onehot', OneHotEncoder()),    \n",
    "        ])),    \n",
    "        ('numerical', Pipeline([\n",
    "            ('select_num', fe.SelectCols(cols = numerical)),\n",
    "            ('date', fe.DateFormatter()),\n",
    "            ('drop_datetime', fe.SelectCols(cols = ('datetime'), invert = True)),\n",
    "            ('temp', fe.ProcessNumerical(cols_to_square = ('temp', 'atemp', 'humidity'))),\n",
    "            # ('bad_weather', fe.BinarySplitter(col = 'weather', threshold = 2)),\n",
    "            # ('filter', fe.PassFilter(col='atemp', lb = 15, replacement_style = 'mean'))\n",
    "            ('scale', StandardScaler()),    \n",
    "        ])),    \n",
    "    ])),\n",
    "    ('clf', RandomForestRegressor(n_estimators = 100)),\n",
    "])\n",
    "\n",
    "# parameters = {\n",
    "#     'clf__n_estimators': (100,),\n",
    "# }\n",
    "\n"
   ]
  },
  {
   "cell_type": "code",
   "execution_count": 8,
   "metadata": {
    "autoscroll": "json-false",
    "collapsed": false,
    "ein.tags": [
     "worksheet-0"
    ],
    "slideshow": {
     "slide_type": "-"
    }
   },
   "outputs": [
    {
     "name": "stdout",
     "output_type": "stream",
     "text": [
      "done in 188.048s\n",
      "()\n",
      "Best score: 0.792\n",
      "Best parameters set:\n",
      "\tclf__n_estimators: 100\n"
     ]
    },
    {
     "name": "stderr",
     "output_type": "stream",
     "text": [
      "[Parallel(n_jobs=1)]: Done   3 out of   3 | elapsed:  1.9min finished\n"
     ]
    },
    {
     "name": "stdout",
     "output_type": "stream",
     "text": [
      "Performing grid search...\n",
      "('pipeline:', ['union', 'clf'])\n",
      "parameters:\n",
      "{'clf__n_estimators': (100,)}\n",
      "Fitting 3 folds for each of 1 candidates, totalling 3 fits\n",
      "done in 164.813s\n",
      "()\n",
      "Best score: 0.715\n",
      "Best parameters set:\n",
      "\tclf__n_estimators: 100\n"
     ]
    },
    {
     "name": "stderr",
     "output_type": "stream",
     "text": [
      "[Parallel(n_jobs=1)]: Done   3 out of   3 | elapsed:  1.7min finished\n"
     ]
    },
    {
     "name": "stdout",
     "output_type": "stream",
     "text": [
      "Performing grid search...\n",
      "('pipeline:', ['union', 'clf'])\n",
      "parameters:\n",
      "{'clf__n_estimators': (100,)}\n",
      "Fitting 3 folds for each of 1 candidates, totalling 3 fits\n",
      "done in 193.133s\n",
      "()\n",
      "Best score: 0.696\n",
      "Best parameters set:\n",
      "\tclf__n_estimators: 100\n"
     ]
    },
    {
     "name": "stderr",
     "output_type": "stream",
     "text": [
      "[Parallel(n_jobs=1)]: Done   3 out of   3 | elapsed:  2.0min finished\n",
      "/Users/zingbretsen/anaconda/lib/python2.7/site-packages/sklearn/pipeline.py:270: DataConversionWarning: A column-vector y was passed when a 1d array was expected. Please change the shape of y to (n_samples,), for example using ravel().\n",
      "  self._final_estimator.fit(Xt, y, **fit_params)\n",
      "kaggle/feature_engineering.py:62: SettingWithCopyWarning: \n",
      "A value is trying to be set on a copy of a slice from a DataFrame.\n",
      "Try using .loc[row_indexer,col_indexer] = value instead\n",
      "\n",
      "See the caveats in the documentation: http://pandas.pydata.org/pandas-docs/stable/indexing.html#indexing-view-versus-copy\n",
      "  X['date'] = pd.DatetimeIndex(X['datetime']).strftime(\"%Y%m%d\")\n",
      "kaggle/feature_engineering.py:63: SettingWithCopyWarning: \n",
      "A value is trying to be set on a copy of a slice from a DataFrame.\n",
      "Try using .loc[row_indexer,col_indexer] = value instead\n",
      "\n",
      "See the caveats in the documentation: http://pandas.pydata.org/pandas-docs/stable/indexing.html#indexing-view-versus-copy\n",
      "  X['day'] = pd.DatetimeIndex(X['datetime']).strftime(\"%j\")\n"
     ]
    },
    {
     "name": "stdout",
     "output_type": "stream",
     "text": [
      "Performing grid search...\n",
      "('pipeline:', ['union', 'clf'])\n",
      "parameters:\n",
      "{'clf__n_estimators': (100,)}\n",
      "Fitting 3 folds for each of 1 candidates, totalling 3 fits\n"
     ]
    }
   ],
   "source": [
    "def gs(y_train):\n",
    "    grid_search = GridSearchCV(pipeline, parameters, n_jobs=1, verbose=1)\n",
    "    print(\"Performing grid search...\")\n",
    "    print(\"pipeline:\", [name for name, _ in pipeline.steps])\n",
    "    print(\"parameters:\")\n",
    "    pprint(parameters)\n",
    "    t0 = time()\n",
    "    grid_search.fit(train_df[predictors].copy(), y_train)\n",
    "    print(\"done in %0.3fs\" % (time() - t0))\n",
    "    print()\n",
    "\n",
    "\n",
    "    print(\"Best score: %0.3f\" % grid_search.best_score_)\n",
    "    print(\"Best parameters set:\")\n",
    "    best_parameters = grid_search.best_estimator_.get_params()\n",
    "    for param_name in sorted(parameters.keys()):\n",
    "        print(\"\\t%s: %r\" % (param_name, best_parameters[param_name]))\n",
    "    return grid_search\n",
    "\n",
    "preds_count = gs(y_count).predict(test_df)\n",
    "preds_casual = gs(y_casual).predict(test_df)\n",
    "preds_registered = gs(y_registered).predict(test_df)\n",
    "\n",
    "test_df.set_index(pd.DatetimeIndex(test_df['datetime']), inplace=True)\n",
    "test_df['count'] = preds_count\n",
    "test_df[['count']].to_csv('data/zi_count_preds.csv')\n",
    "\n",
    "test_df['count'] = preds_casual + preds_registered\n",
    "test_df[['count']].to_csv('data/zi_combined_preds.csv')\n",
    "\n",
    "\n"
   ]
  },
  {
   "cell_type": "code",
   "execution_count": 0,
   "metadata": {
    "autoscroll": "json-false",
    "collapsed": false,
    "ein.tags": [
     "worksheet-0"
    ],
    "slideshow": {
     "slide_type": "-"
    }
   },
   "outputs": [],
   "source": [
    "count only: Your submission scored 0.48272\n",
    "casual + registered: 0.47310\n"
   ]
  }
 ],
 "metadata": {
  "anaconda-cloud": {},
  "kernelspec": {
   "display_name": "Python 2",
   "language": "python",
   "name": "python2"
  },
  "language_info": {
   "codemirror_mode": {
    "name": "ipython",
    "version": 2
   },
   "file_extension": ".py",
   "mimetype": "text/x-python",
   "name": "python",
   "nbconvert_exporter": "python",
   "pygments_lexer": "ipython2",
   "version": "2.7.13"
  },
  "name": "zach_ingbretsen_notebook.ipynb"
 },
 "nbformat": 4,
 "nbformat_minor": 1
}
