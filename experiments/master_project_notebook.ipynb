{
 "cells": [
  {
   "cell_type": "markdown",
   "metadata": {},
   "source": [
    "# W207 Final Project\n",
    "## Bike Sharing Demand Kaggle Competition\n",
    "Team Members: Zach Ingbretsen, Nicholas Chen, Keri Wheatley, and Rob Mulla\n",
    "\n",
    "Kaggle Link: https://www.kaggle.com/c/bike-sharing-demand"
   ]
  },
  {
   "cell_type": "markdown",
   "metadata": {},
   "source": [
    "## Business Understanding\n",
    "* What problem are we trying solve?\n",
    "* What are the relevant metrics? How much do we plan to improve them?\n",
    "* What will we deliver?\n"
   ]
  },
  {
   "cell_type": "markdown",
   "metadata": {},
   "source": [
    "## Data Understanding\n",
    "\n",
    "- What are the raw data sources?\n",
    "- What does each 'unit' (e.g. row) of data represent?\n",
    "- What are the fields (columns)?\n",
    "- EDA\n",
    "  - Distribution of each feature\n",
    "  - Missing values\n",
    "  - Distribution of target\n",
    "  - Relationships between features\n",
    "  - Other idiosyncracies?"
   ]
  },
  {
   "cell_type": "markdown",
   "metadata": {},
   "source": [
    "## Data Preparation\n",
    "\n",
    "- What steps are taken to prepare the data for modeling?\n",
    "  - feature transformations? engineering?\n",
    "  - table joins? aggregation?\n",
    "- Precise description of modeling base tables.\n",
    "  - What are the rows/columns of X (the predictors)?\n",
    "  - What is y (the target)?"
   ]
  },
  {
   "cell_type": "markdown",
   "metadata": {},
   "source": [
    "## Modeling\n",
    "\n",
    "- What model are we using? Why?\n",
    "- Assumptions?\n",
    "- Regularization?"
   ]
  },
  {
   "cell_type": "markdown",
   "metadata": {},
   "source": [
    "## Evaluation\n",
    "\n",
    "- How well does the model perform?\n",
    "  - Accuracy\n",
    "  - ROC curves\n",
    "  - Cross-validation\n",
    "  - other metrics? performance?\n",
    "\n",
    "- AB test results (if any)"
   ]
  },
  {
   "cell_type": "markdown",
   "metadata": {},
   "source": [
    "## Deployment\n",
    "\n",
    "- How is the model deployed?\n",
    "  - prediction service?\n",
    "  - serialized model?\n",
    "  - regression coefficients?\n",
    "- What support is provided after initial deployment?"
   ]
  }
 ],
 "metadata": {
  "anaconda-cloud": {},
  "kernelspec": {
   "display_name": "Python [conda root]",
   "language": "python",
   "name": "conda-root-py"
  },
  "language_info": {
   "codemirror_mode": {
    "name": "ipython",
    "version": 2
   },
   "file_extension": ".py",
   "mimetype": "text/x-python",
   "name": "python",
   "nbconvert_exporter": "python",
   "pygments_lexer": "ipython2",
   "version": "2.7.12"
  }
 },
 "nbformat": 4,
 "nbformat_minor": 1
}
