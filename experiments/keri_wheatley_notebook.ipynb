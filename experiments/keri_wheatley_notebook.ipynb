{
 "cells": [
  {
   "cell_type": "markdown",
   "metadata": {},
   "source": [
    "Load datasets"
   ]
  },
  {
   "cell_type": "code",
   "execution_count": 2,
   "metadata": {
    "collapsed": false
   },
   "outputs": [],
   "source": [
    "import pandas as pd\n",
    "import matplotlib.pyplot as plt\n",
    "\n",
    "train_df = pd.read_csv('data/train.csv')\n",
    "test_df = pd.read_csv('data/test.csv')"
   ]
  },
  {
   "cell_type": "markdown",
   "metadata": {},
   "source": [
    "Feature Engineering"
   ]
  },
  {
   "cell_type": "code",
   "execution_count": 3,
   "metadata": {
    "collapsed": false
   },
   "outputs": [],
   "source": [
    "# Change the index to datetime\n",
    "train_df.set_index(pd.DatetimeIndex(train_df['datetime']), inplace=True)\n",
    "\n",
    "# Create new day and time related features\n",
    "train_df['date'] = pd.DatetimeIndex(train_df['datetime']).strftime(\"%Y%m%d\")\n",
    "train_df['day'] = pd.DatetimeIndex(train_df['datetime']).strftime(\"%j\")\n",
    "train_df['month1'] = pd.DatetimeIndex(train_df['datetime']).strftime(\"%m\")\n",
    "train_df['month2'] = pd.DatetimeIndex(train_df['datetime']).strftime(\"%B\")\n",
    "train_df['year'] = pd.DatetimeIndex(train_df['datetime']).strftime(\"%Y\")\n",
    "train_df['hour'] = pd.DatetimeIndex(train_df['datetime']).strftime(\"%H\")\n",
    "train_df['dow1'] = pd.DatetimeIndex(train_df['datetime']).strftime(\"%w\")\n",
    "train_df['dow2'] = pd.DatetimeIndex(train_df['datetime']).strftime(\"%A\")\n",
    "train_df['woy'] = pd.DatetimeIndex(train_df['datetime']).strftime(\"%W\")\n",
    "\n",
    "# Create squared features\n",
    "train_df['temp_sq'] = train_df['temp']**2\n",
    "train_df['humidity_sq'] = train_df['humidity']**2"
   ]
  },
  {
   "cell_type": "code",
   "execution_count": 4,
   "metadata": {
    "collapsed": true
   },
   "outputs": [],
   "source": [
    "# Change the index to datetime\n",
    "test_df.set_index(pd.DatetimeIndex(test_df['datetime']), inplace=True)\n",
    "\n",
    "# Create new day and time related features\n",
    "test_df['date'] = pd.DatetimeIndex(test_df['datetime']).strftime(\"%Y%m%d\")\n",
    "test_df['day'] = pd.DatetimeIndex(test_df['datetime']).strftime(\"%j\")\n",
    "test_df['month1'] = pd.DatetimeIndex(test_df['datetime']).strftime(\"%m\")\n",
    "test_df['month2'] = pd.DatetimeIndex(test_df['datetime']).strftime(\"%B\")\n",
    "test_df['year'] = pd.DatetimeIndex(test_df['datetime']).strftime(\"%Y\")\n",
    "test_df['hour'] = pd.DatetimeIndex(test_df['datetime']).strftime(\"%H\")\n",
    "test_df['dow1'] = pd.DatetimeIndex(test_df['datetime']).strftime(\"%w\")\n",
    "test_df['dow2'] = pd.DatetimeIndex(test_df['datetime']).strftime(\"%A\")\n",
    "test_df['woy'] = pd.DatetimeIndex(test_df['datetime']).strftime(\"%W\")\n",
    "\n",
    "# Create squared features\n",
    "test_df['temp_sq'] = test_df['temp']**2\n",
    "test_df['humidity_sq'] = test_df['humidity']**2"
   ]
  },
  {
   "cell_type": "markdown",
   "metadata": {},
   "source": [
    "Exploratory Data Analysis"
   ]
  },
  {
   "cell_type": "code",
   "execution_count": 5,
   "metadata": {
    "collapsed": false
   },
   "outputs": [
    {
     "data": {
      "text/html": [
       "<div>\n",
       "<table border=\"1\" class=\"dataframe\">\n",
       "  <thead>\n",
       "    <tr style=\"text-align: right;\">\n",
       "      <th></th>\n",
       "      <th>dow2</th>\n",
       "      <th>Friday</th>\n",
       "      <th>Monday</th>\n",
       "      <th>Saturday</th>\n",
       "      <th>Sunday</th>\n",
       "      <th>Thursday</th>\n",
       "      <th>Tuesday</th>\n",
       "      <th>Wednesday</th>\n",
       "    </tr>\n",
       "    <tr>\n",
       "      <th>workingday</th>\n",
       "      <th>holiday</th>\n",
       "      <th></th>\n",
       "      <th></th>\n",
       "      <th></th>\n",
       "      <th></th>\n",
       "      <th></th>\n",
       "      <th></th>\n",
       "      <th></th>\n",
       "    </tr>\n",
       "  </thead>\n",
       "  <tbody>\n",
       "    <tr>\n",
       "      <th rowspan=\"2\" valign=\"top\">0</th>\n",
       "      <th>0</th>\n",
       "      <td>NaN</td>\n",
       "      <td>NaN</td>\n",
       "      <td>311518.0</td>\n",
       "      <td>285546.0</td>\n",
       "      <td>NaN</td>\n",
       "      <td>NaN</td>\n",
       "      <td>NaN</td>\n",
       "    </tr>\n",
       "    <tr>\n",
       "      <th>1</th>\n",
       "      <td>6494.0</td>\n",
       "      <td>43911.0</td>\n",
       "      <td>NaN</td>\n",
       "      <td>NaN</td>\n",
       "      <td>NaN</td>\n",
       "      <td>NaN</td>\n",
       "      <td>7403.0</td>\n",
       "    </tr>\n",
       "    <tr>\n",
       "      <th>1</th>\n",
       "      <th>0</th>\n",
       "      <td>296010.0</td>\n",
       "      <td>251385.0</td>\n",
       "      <td>NaN</td>\n",
       "      <td>NaN</td>\n",
       "      <td>306401.0</td>\n",
       "      <td>291985.0</td>\n",
       "      <td>284823.0</td>\n",
       "    </tr>\n",
       "  </tbody>\n",
       "</table>\n",
       "</div>"
      ],
      "text/plain": [
       "dow2                  Friday    Monday  Saturday    Sunday  Thursday  \\\n",
       "workingday holiday                                                     \n",
       "0          0             NaN       NaN  311518.0  285546.0       NaN   \n",
       "           1          6494.0   43911.0       NaN       NaN       NaN   \n",
       "1          0        296010.0  251385.0       NaN       NaN  306401.0   \n",
       "\n",
       "dow2                 Tuesday  Wednesday  \n",
       "workingday holiday                       \n",
       "0          0             NaN        NaN  \n",
       "           1             NaN     7403.0  \n",
       "1          0        291985.0   284823.0  "
      ]
     },
     "execution_count": 5,
     "metadata": {},
     "output_type": "execute_result"
    }
   ],
   "source": [
    "# Holiday and weekday indicators check out\n",
    "train_df.groupby(['workingday','holiday','dow2'])['count'].agg('sum').unstack()"
   ]
  },
  {
   "cell_type": "code",
   "execution_count": 6,
   "metadata": {
    "collapsed": false
   },
   "outputs": [
    {
     "data": {
      "image/png": "[encoded data removed]",
      "text/plain": [
       "<matplotlib.figure.Figure at 0x10ffb5c50>"
      ]
     },
     "metadata": {},
     "output_type": "display_data"
    }
   ],
   "source": [
    "# Rentals by hour\n",
    "by_hour = train_df.groupby(['hour'])['count'].agg('sum')\n",
    "plt.plot(by_hour)\n",
    "plt.show()\n"
   ]
  },
  {
   "cell_type": "code",
   "execution_count": 7,
   "metadata": {
    "collapsed": false
   },
   "outputs": [
    {
     "data": {
      "image/png": "[encoded data removed]",
      "text/plain": [
       "<matplotlib.figure.Figure at 0x10bbc2110>"
      ]
     },
     "metadata": {},
     "output_type": "display_data"
    }
   ],
   "source": [
    "# Rentals by hour\n",
    "by_hour = train_df.groupby(['hour','workingday'])['count'].agg('sum').unstack()\n",
    "# by_hour\n",
    "# plt.plot(data=by_hour, kind='bar', figsize=(8,4), width=0.8)\n",
    "plt.hist(by_hour)\n",
    "plt.show()\n",
    "\n",
    "# by_hour.plot(kind='bar', figsize=(8,4), width=0.8);\n"
   ]
  },
  {
   "cell_type": "code",
   "execution_count": 10,
   "metadata": {
    "collapsed": false
   },
   "outputs": [],
   "source": [
    "train_data = train_df[\\\n",
    "    ['season','holiday','workingday','weather','temp','atemp','humidity',\\\n",
    "     'windspeed','woy','dow1','hour']].values\n",
    "train_labels = train_df['count']\n",
    "test_data = test_df[\\\n",
    "    ['season','holiday','workingday','weather','temp','atemp','humidity',\\\n",
    "     'windspeed','woy','dow1','hour']].values     "
   ]
  },
  {
   "cell_type": "code",
   "execution_count": 25,
   "metadata": {
    "collapsed": false
   },
   "outputs": [],
   "source": [
    "from sklearn.tree import DecisionTreeRegressor\n",
    "\n",
    "dt = DecisionTreeRegressor(max_depth = 3)\n",
    "\n",
    "dt.fit(train_data, train_labels)\n",
    "\n",
    "test_predict = pd.DataFrame(dt.predict(test_data))\n",
    "test_predict.to_csv(\"predictions.csv\", sep='\\t')\n",
    "\n",
    "test_df['datetime'].to_csv(\"datetime.csv\", sep='\\t')"
   ]
  },
  {
   "cell_type": "code",
   "execution_count": null,
   "metadata": {
    "collapsed": true
   },
   "outputs": [],
   "source": []
  },
  {
   "cell_type": "code",
   "execution_count": null,
   "metadata": {
    "collapsed": true
   },
   "outputs": [],
   "source": []
  }
 ],
 "metadata": {
  "anaconda-cloud": {},
  "kernelspec": {
   "display_name": "Python [default]",
   "language": "python",
   "name": "python2"
  },
  "language_info": {
   "codemirror_mode": {
    "name": "ipython",
    "version": 2
   },
   "file_extension": ".py",
   "mimetype": "text/x-python",
   "name": "python",
   "nbconvert_exporter": "python",
   "pygments_lexer": "ipython2",
   "version": "2.7.12"
  }
 },
 "nbformat": 4,
 "nbformat_minor": 1
}
