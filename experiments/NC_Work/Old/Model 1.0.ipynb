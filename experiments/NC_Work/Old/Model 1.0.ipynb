{
 "cells": [
  {
   "cell_type": "markdown",
   "metadata": {},
   "source": [
    "# Final Project"
   ]
  },
  {
   "cell_type": "code",
   "execution_count": 9,
   "metadata": {
    "collapsed": false
   },
   "outputs": [],
   "source": [
    "import numpy as np\n",
    "import pandas as pd\n",
    "import matplotlib.pyplot as plt\n",
    "import os\n",
    "from datetime import datetime\n",
    "\n",
    "\n",
    "#SK-learn libraries for setup\n",
    "from sklearn.model_selection import train_test_split\n",
    "\n",
    "# SK-learn libraries for learning.\n",
    "from sklearn.pipeline import Pipeline\n",
    "from sklearn.neighbors import KNeighborsClassifier\n",
    "from sklearn.linear_model import LogisticRegression\n",
    "from sklearn.tree import DecisionTreeRegressor\n",
    "from sklearn.naive_bayes import BernoulliNB\n",
    "from sklearn.naive_bayes import MultinomialNB\n",
    "from sklearn.grid_search import GridSearchCV\n",
    "from sklearn.ensemble import RandomForestRegressor\n",
    "\n",
    "# SK-learn libraries for evaluation.\n",
    "from sklearn.metrics import confusion_matrix\n",
    "from sklearn import metrics\n",
    "from sklearn.metrics import classification_report\n"
   ]
  },
  {
   "cell_type": "code",
   "execution_count": 2,
   "metadata": {
    "collapsed": false
   },
   "outputs": [
    {
     "data": {
      "text/html": [
       "<div>\n",
       "<table border=\"1\" class=\"dataframe\">\n",
       "  <thead>\n",
       "    <tr style=\"text-align: right;\">\n",
       "      <th></th>\n",
       "      <th>datetime</th>\n",
       "      <th>season</th>\n",
       "      <th>holiday</th>\n",
       "      <th>workingday</th>\n",
       "      <th>weather</th>\n",
       "      <th>temp</th>\n",
       "      <th>atemp</th>\n",
       "      <th>humidity</th>\n",
       "      <th>windspeed</th>\n",
       "      <th>casual</th>\n",
       "      <th>registered</th>\n",
       "      <th>count</th>\n",
       "    </tr>\n",
       "  </thead>\n",
       "  <tbody>\n",
       "    <tr>\n",
       "      <th>0</th>\n",
       "      <td>2011-01-01 00:00:00</td>\n",
       "      <td>1</td>\n",
       "      <td>0</td>\n",
       "      <td>0</td>\n",
       "      <td>1</td>\n",
       "      <td>9.84</td>\n",
       "      <td>14.395</td>\n",
       "      <td>81</td>\n",
       "      <td>0.0</td>\n",
       "      <td>3</td>\n",
       "      <td>13</td>\n",
       "      <td>16</td>\n",
       "    </tr>\n",
       "    <tr>\n",
       "      <th>1</th>\n",
       "      <td>2011-01-01 01:00:00</td>\n",
       "      <td>1</td>\n",
       "      <td>0</td>\n",
       "      <td>0</td>\n",
       "      <td>1</td>\n",
       "      <td>9.02</td>\n",
       "      <td>13.635</td>\n",
       "      <td>80</td>\n",
       "      <td>0.0</td>\n",
       "      <td>8</td>\n",
       "      <td>32</td>\n",
       "      <td>40</td>\n",
       "    </tr>\n",
       "    <tr>\n",
       "      <th>2</th>\n",
       "      <td>2011-01-01 02:00:00</td>\n",
       "      <td>1</td>\n",
       "      <td>0</td>\n",
       "      <td>0</td>\n",
       "      <td>1</td>\n",
       "      <td>9.02</td>\n",
       "      <td>13.635</td>\n",
       "      <td>80</td>\n",
       "      <td>0.0</td>\n",
       "      <td>5</td>\n",
       "      <td>27</td>\n",
       "      <td>32</td>\n",
       "    </tr>\n",
       "    <tr>\n",
       "      <th>3</th>\n",
       "      <td>2011-01-01 03:00:00</td>\n",
       "      <td>1</td>\n",
       "      <td>0</td>\n",
       "      <td>0</td>\n",
       "      <td>1</td>\n",
       "      <td>9.84</td>\n",
       "      <td>14.395</td>\n",
       "      <td>75</td>\n",
       "      <td>0.0</td>\n",
       "      <td>3</td>\n",
       "      <td>10</td>\n",
       "      <td>13</td>\n",
       "    </tr>\n",
       "    <tr>\n",
       "      <th>4</th>\n",
       "      <td>2011-01-01 04:00:00</td>\n",
       "      <td>1</td>\n",
       "      <td>0</td>\n",
       "      <td>0</td>\n",
       "      <td>1</td>\n",
       "      <td>9.84</td>\n",
       "      <td>14.395</td>\n",
       "      <td>75</td>\n",
       "      <td>0.0</td>\n",
       "      <td>0</td>\n",
       "      <td>1</td>\n",
       "      <td>1</td>\n",
       "    </tr>\n",
       "  </tbody>\n",
       "</table>\n",
       "</div>"
      ],
      "text/plain": [
       "              datetime  season  holiday  workingday  weather  temp   atemp  \\\n",
       "0  2011-01-01 00:00:00       1        0           0        1  9.84  14.395   \n",
       "1  2011-01-01 01:00:00       1        0           0        1  9.02  13.635   \n",
       "2  2011-01-01 02:00:00       1        0           0        1  9.02  13.635   \n",
       "3  2011-01-01 03:00:00       1        0           0        1  9.84  14.395   \n",
       "4  2011-01-01 04:00:00       1        0           0        1  9.84  14.395   \n",
       "\n",
       "   humidity  windspeed  casual  registered  count  \n",
       "0        81        0.0       3          13     16  \n",
       "1        80        0.0       8          32     40  \n",
       "2        80        0.0       5          27     32  \n",
       "3        75        0.0       3          10     13  \n",
       "4        75        0.0       0           1      1  "
      ]
     },
     "execution_count": 2,
     "metadata": {},
     "output_type": "execute_result"
    }
   ],
   "source": [
    "#Read data\n",
    "os.chdir(\"/Users/nwchen24/Desktop/UC_Berkeley/machine_learning/final_project_github_repo/w207_kaggleproject/data/\")\n",
    "\n",
    "train_data_full = pd.read_csv('train.csv')\n",
    "train_data_full.head()"
   ]
  },
  {
   "cell_type": "markdown",
   "metadata": {},
   "source": [
    "## Prep"
   ]
  },
  {
   "cell_type": "code",
   "execution_count": 3,
   "metadata": {
    "collapsed": false
   },
   "outputs": [],
   "source": [
    "#Create a program age variable\n",
    "#Do this before we do the train test split because the beginning of the program is a constant, so we don't\n",
    "#have to worry about 'contaminating' any of our data by applying the same transformation to the entire dataset\n",
    "\n",
    "#Convert to datetime object\n",
    "train_data_full['datetime'] = train_data_full['datetime'].apply(lambda x: datetime.strptime(x, '%Y-%m-%d %H:%M:%S'))\n",
    "\n",
    "#Initialized program beginning\n",
    "prog_beginning = '2011-01-01 00:00:00'\n",
    "\n",
    "prog_beginning_conv = datetime.strptime(prog_beginning, '%Y-%m-%d %H:%M:%S')\n",
    "\n",
    "#Create a program age variable\n",
    "train_data_full['prog_age'] = train_data_full['datetime'] - prog_beginning_conv\n",
    "\n",
    "#convert the time delta to float of days\n",
    "train_data_full['prog_age'] = train_data_full['prog_age'].dt.total_seconds() / (24 * 60 * 60)\n",
    "\n"
   ]
  },
  {
   "cell_type": "code",
   "execution_count": 4,
   "metadata": {
    "collapsed": true
   },
   "outputs": [],
   "source": [
    "#Split into train and development\n",
    "train_data, dev_data = train_test_split(train_data_full, random_state = 0)"
   ]
  },
  {
   "cell_type": "code",
   "execution_count": 5,
   "metadata": {
    "collapsed": false
   },
   "outputs": [
    {
     "data": {
      "text/html": [
       "<div>\n",
       "<table border=\"1\" class=\"dataframe\">\n",
       "  <thead>\n",
       "    <tr style=\"text-align: right;\">\n",
       "      <th></th>\n",
       "      <th>datetime</th>\n",
       "      <th>season</th>\n",
       "      <th>holiday</th>\n",
       "      <th>workingday</th>\n",
       "      <th>weather</th>\n",
       "      <th>temp</th>\n",
       "      <th>atemp</th>\n",
       "      <th>humidity</th>\n",
       "      <th>windspeed</th>\n",
       "      <th>casual</th>\n",
       "      <th>registered</th>\n",
       "      <th>count</th>\n",
       "      <th>prog_age</th>\n",
       "      <th>weather_descriptions</th>\n",
       "      <th>season_str</th>\n",
       "    </tr>\n",
       "  </thead>\n",
       "  <tbody>\n",
       "    <tr>\n",
       "      <th>0</th>\n",
       "      <td>2012-12-09 17:00:00</td>\n",
       "      <td>4</td>\n",
       "      <td>0</td>\n",
       "      <td>0</td>\n",
       "      <td>3</td>\n",
       "      <td>14.76</td>\n",
       "      <td>17.425</td>\n",
       "      <td>93</td>\n",
       "      <td>8.9981</td>\n",
       "      <td>20</td>\n",
       "      <td>209</td>\n",
       "      <td>229</td>\n",
       "      <td>708.708333</td>\n",
       "      <td>Poor Weather</td>\n",
       "      <td>Winter</td>\n",
       "    </tr>\n",
       "    <tr>\n",
       "      <th>1</th>\n",
       "      <td>2011-06-19 00:00:00</td>\n",
       "      <td>2</td>\n",
       "      <td>0</td>\n",
       "      <td>0</td>\n",
       "      <td>1</td>\n",
       "      <td>28.70</td>\n",
       "      <td>32.575</td>\n",
       "      <td>65</td>\n",
       "      <td>0.0000</td>\n",
       "      <td>18</td>\n",
       "      <td>71</td>\n",
       "      <td>89</td>\n",
       "      <td>169.000000</td>\n",
       "      <td>Nice Weather</td>\n",
       "      <td>Summer</td>\n",
       "    </tr>\n",
       "    <tr>\n",
       "      <th>2</th>\n",
       "      <td>2012-05-10 19:00:00</td>\n",
       "      <td>2</td>\n",
       "      <td>0</td>\n",
       "      <td>1</td>\n",
       "      <td>1</td>\n",
       "      <td>22.14</td>\n",
       "      <td>25.760</td>\n",
       "      <td>37</td>\n",
       "      <td>23.9994</td>\n",
       "      <td>84</td>\n",
       "      <td>469</td>\n",
       "      <td>553</td>\n",
       "      <td>495.791667</td>\n",
       "      <td>Nice Weather</td>\n",
       "      <td>Summer</td>\n",
       "    </tr>\n",
       "    <tr>\n",
       "      <th>3</th>\n",
       "      <td>2011-12-06 08:00:00</td>\n",
       "      <td>4</td>\n",
       "      <td>0</td>\n",
       "      <td>1</td>\n",
       "      <td>2</td>\n",
       "      <td>18.86</td>\n",
       "      <td>22.725</td>\n",
       "      <td>94</td>\n",
       "      <td>12.9980</td>\n",
       "      <td>13</td>\n",
       "      <td>401</td>\n",
       "      <td>414</td>\n",
       "      <td>339.333333</td>\n",
       "      <td>OK Weather</td>\n",
       "      <td>Winter</td>\n",
       "    </tr>\n",
       "    <tr>\n",
       "      <th>4</th>\n",
       "      <td>2011-04-17 08:00:00</td>\n",
       "      <td>2</td>\n",
       "      <td>0</td>\n",
       "      <td>0</td>\n",
       "      <td>1</td>\n",
       "      <td>15.58</td>\n",
       "      <td>19.695</td>\n",
       "      <td>46</td>\n",
       "      <td>26.0027</td>\n",
       "      <td>7</td>\n",
       "      <td>36</td>\n",
       "      <td>43</td>\n",
       "      <td>106.333333</td>\n",
       "      <td>Nice Weather</td>\n",
       "      <td>Summer</td>\n",
       "    </tr>\n",
       "  </tbody>\n",
       "</table>\n",
       "</div>"
      ],
      "text/plain": [
       "             datetime  season  holiday  workingday  weather   temp   atemp  \\\n",
       "0 2012-12-09 17:00:00       4        0           0        3  14.76  17.425   \n",
       "1 2011-06-19 00:00:00       2        0           0        1  28.70  32.575   \n",
       "2 2012-05-10 19:00:00       2        0           1        1  22.14  25.760   \n",
       "3 2011-12-06 08:00:00       4        0           1        2  18.86  22.725   \n",
       "4 2011-04-17 08:00:00       2        0           0        1  15.58  19.695   \n",
       "\n",
       "   humidity  windspeed  casual  registered  count    prog_age  \\\n",
       "0        93     8.9981      20         209    229  708.708333   \n",
       "1        65     0.0000      18          71     89  169.000000   \n",
       "2        37    23.9994      84         469    553  495.791667   \n",
       "3        94    12.9980      13         401    414  339.333333   \n",
       "4        46    26.0027       7          36     43  106.333333   \n",
       "\n",
       "  weather_descriptions season_str  \n",
       "0         Poor Weather     Winter  \n",
       "1         Nice Weather     Summer  \n",
       "2         Nice Weather     Summer  \n",
       "3           OK Weather     Winter  \n",
       "4         Nice Weather     Summer  "
      ]
     },
     "execution_count": 5,
     "metadata": {},
     "output_type": "execute_result"
    }
   ],
   "source": [
    "#Add a string desctriptor for weather\n",
    "weather_values = [1,2,3,4]\n",
    "weather_descriptions = ['Nice Weather', 'OK Weather', 'Poor Weather', 'Bad Weather']\n",
    "weather_dict_df = pd.DataFrame({'weather' : weather_values, 'weather_descriptions': weather_descriptions})\n",
    "\n",
    "weather_dict_df\n",
    "train_data = pd.merge(train_data, weather_dict_df, how = 'left')\n",
    "\n",
    "#Add a string descriptor for season\n",
    "season_values = [1,2,3,4]\n",
    "season_str = ['Spring', 'Summer', 'Fall', 'Winter']\n",
    "season_dict_df = pd.DataFrame({'season' : season_values, 'season_str': season_str})\n",
    "\n",
    "train_data = pd.merge(train_data, season_dict_df, how = 'left')\n",
    "\n",
    "train_data.head()"
   ]
  },
  {
   "cell_type": "code",
   "execution_count": 6,
   "metadata": {
    "collapsed": true
   },
   "outputs": [],
   "source": [
    "#Helper function to calculate root mean squared error\n",
    "def get_RMSE(actual_values, predicted_values):\n",
    "    n = len(actual_values)\n",
    "    RMSE = np.sqrt(np.sum(((np.log(predicted_values + 1) - np.log(actual_values + 1)) ** 2) / n))\n",
    "    return RMSE\n",
    "\n",
    "    "
   ]
  },
  {
   "cell_type": "markdown",
   "metadata": {},
   "source": [
    "## Feature Engineering"
   ]
  },
  {
   "cell_type": "markdown",
   "metadata": {},
   "source": [
    "## Model  \n",
    "\n",
    "Try fitting separate models for casual and registered, then add the results to get count"
   ]
  },
  {
   "cell_type": "code",
   "execution_count": 7,
   "metadata": {
    "collapsed": false
   },
   "outputs": [],
   "source": [
    "#set list of predictors\n",
    "predictors = ['season', 'holiday', 'workingday', 'weather', 'temp', 'humidity', 'windspeed', 'prog_age']\n",
    "\n",
    "casual = 'casual'\n",
    "\n",
    "registered = 'registered'\n",
    "\n"
   ]
  },
  {
   "cell_type": "markdown",
   "metadata": {},
   "source": [
    "### Decision Tree Regressor"
   ]
  },
  {
   "cell_type": "code",
   "execution_count": 8,
   "metadata": {
    "collapsed": false
   },
   "outputs": [
    {
     "data": {
      "text/plain": [
       "DecisionTreeRegressor(criterion='mse', max_depth=3, max_features=None,\n",
       "           max_leaf_nodes=None, min_impurity_split=1e-07,\n",
       "           min_samples_leaf=1, min_samples_split=2,\n",
       "           min_weight_fraction_leaf=0.0, presort=False, random_state=None,\n",
       "           splitter='best')"
      ]
     },
     "execution_count": 8,
     "metadata": {},
     "output_type": "execute_result"
    }
   ],
   "source": [
    "#Fit the classifiers\n",
    "\n",
    "#First, casual rides\n",
    "#intsantiate the classifier\n",
    "#Set max depth\n",
    "dt_casual = DecisionTreeRegressor(max_depth = 3)\n",
    "\n",
    "#fit the classifier for casual rentals\n",
    "dt_casual.fit(train_data[predictors], train_data[casual])\n",
    "\n",
    "#The registered rides\n",
    "#intsantiate the classifier\n",
    "#Set max depth\n",
    "dt_registered = DecisionTreeRegressor(max_depth = 3)\n",
    "\n",
    "#fit the classifier for casual rentals\n",
    "dt_registered.fit(train_data[predictors], train_data[registered])\n",
    "\n"
   ]
  },
  {
   "cell_type": "code",
   "execution_count": 191,
   "metadata": {
    "collapsed": false
   },
   "outputs": [
    {
     "name": "stdout",
     "output_type": "stream",
     "text": [
      "Root Mean Squared Error: 1.38356940276\n"
     ]
    }
   ],
   "source": [
    "#get RMSE\n",
    "#predict casual and registered rides\n",
    "preds_casual = dt_casual.predict(train_data[predictors])\n",
    "preds_registered = dt_registered.predict(train_data[predictors])\n",
    "\n",
    "#combined predictions\n",
    "preds_count = preds_casual + preds_registered\n",
    "\n",
    "actual = train_data['count']\n",
    "\n",
    "RMSE = get_RMSE(actual_values = actual, predicted_values = preds_count)\n",
    "\n",
    "print \"Root Mean Squared Error: \" + str(RMSE)"
   ]
  },
  {
   "cell_type": "code",
   "execution_count": 192,
   "metadata": {
    "collapsed": false
   },
   "outputs": [
    {
     "name": "stdout",
     "output_type": "stream",
     "text": [
      "Root Mean Squared Error: 1.38714682064\n"
     ]
    }
   ],
   "source": [
    "#Try on the dev data\n",
    "dev_preds_casual = dt_casual.predict(dev_data[predictors])\n",
    "dev_preds_registered = dt_registered.predict(dev_data[predictors])\n",
    "\n",
    "#combined predictions\n",
    "dev_preds_count = dev_preds_casual + dev_preds_registered\n",
    "\n",
    "actual = dev_data['count']\n",
    "\n",
    "RMSE = get_RMSE(actual_values = actual, predicted_values = dev_preds_count)\n",
    "\n",
    "print \"Root Mean Squared Error: \" + str(RMSE)\n"
   ]
  },
  {
   "cell_type": "markdown",
   "metadata": {
    "collapsed": true
   },
   "source": [
    "### Random Forest Regressor"
   ]
  },
  {
   "cell_type": "code",
   "execution_count": null,
   "metadata": {
    "collapsed": true
   },
   "outputs": [],
   "source": [
    "rf"
   ]
  }
 ],
 "metadata": {
  "anaconda-cloud": {},
  "kernelspec": {
   "display_name": "Python [conda env:Machine_learning_python2]",
   "language": "python",
   "name": "conda-env-Machine_learning_python2-py"
  },
  "language_info": {
   "codemirror_mode": {
    "name": "ipython",
    "version": 2
   },
   "file_extension": ".py",
   "mimetype": "text/x-python",
   "name": "python",
   "nbconvert_exporter": "python",
   "pygments_lexer": "ipython2",
   "version": "2.7.13"
  }
 },
 "nbformat": 4,
 "nbformat_minor": 1
}
