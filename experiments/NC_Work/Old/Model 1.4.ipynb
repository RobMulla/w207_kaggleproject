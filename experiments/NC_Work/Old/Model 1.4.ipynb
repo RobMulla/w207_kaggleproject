{
 "cells": [
  {
   "cell_type": "markdown",
   "metadata": {},
   "source": [
    "# Final Project"
   ]
  },
  {
   "cell_type": "code",
   "execution_count": 67,
   "metadata": {
    "collapsed": false
   },
   "outputs": [],
   "source": [
    "import numpy as np\n",
    "import pandas as pd\n",
    "import matplotlib.pyplot as plt\n",
    "import os\n",
    "from datetime import datetime\n",
    "\n",
    "\n",
    "#SK-learn libraries for setup\n",
    "from sklearn.model_selection import train_test_split\n",
    "\n",
    "# SK-learn libraries for learning.\n",
    "from sklearn.pipeline import Pipeline\n",
    "from sklearn.pipeline import FeatureUnion\n",
    "from sklearn.neighbors import KNeighborsClassifier\n",
    "from sklearn.linear_model import LogisticRegression\n",
    "from sklearn.tree import DecisionTreeRegressor\n",
    "from sklearn.naive_bayes import BernoulliNB\n",
    "from sklearn.naive_bayes import MultinomialNB\n",
    "from sklearn.grid_search import GridSearchCV\n",
    "from sklearn.ensemble import RandomForestRegressor\n",
    "from sklearn.ensemble import RandomForestClassifier\n",
    "from sklearn.ensemble import AdaBoostRegressor\n",
    "from sklearn.ensemble import GradientBoostingRegressor\n",
    "\n",
    "#SK-learn libraries for transformation and pre-processing\n",
    "from sklearn.base import BaseEstimator, TransformerMixin\n",
    "from sklearn.feature_extraction import DictVectorizer\n",
    "from sklearn.preprocessing import StandardScaler\n",
    "from sklearn.preprocessing import Imputer\n",
    "\n",
    "\n",
    "\n",
    "# SK-learn libraries for evaluation.\n",
    "from sklearn.metrics import confusion_matrix\n",
    "from sklearn import metrics\n",
    "from sklearn.metrics import classification_report\n",
    "from sklearn.metrics import make_scorer\n"
   ]
  },
  {
   "cell_type": "code",
   "execution_count": 2,
   "metadata": {
    "collapsed": false
   },
   "outputs": [],
   "source": [
    "#Read data\n",
    "os.chdir(\"/Users/nwchen24/Desktop/UC_Berkeley/machine_learning/final_project_github_repo/w207_kaggleproject/data/\")\n",
    "\n",
    "#training data\n",
    "train_data_full = pd.read_csv('train.csv')\n",
    "train_data_full.head()\n",
    "\n",
    "#testing data\n",
    "test_data = pd.read_csv('test.csv')"
   ]
  },
  {
   "cell_type": "code",
   "execution_count": 3,
   "metadata": {
    "collapsed": false
   },
   "outputs": [
    {
     "data": {
      "application/javascript": [
       "IPython.OutputArea.auto_scroll_threshold = 9999;"
      ],
      "text/plain": [
       "<IPython.core.display.Javascript object>"
      ]
     },
     "metadata": {},
     "output_type": "display_data"
    }
   ],
   "source": [
    "%%javascript\n",
    "IPython.OutputArea.auto_scroll_threshold = 9999;"
   ]
  },
  {
   "cell_type": "markdown",
   "metadata": {},
   "source": [
    "## Prep"
   ]
  },
  {
   "cell_type": "code",
   "execution_count": 4,
   "metadata": {
    "collapsed": false
   },
   "outputs": [],
   "source": [
    "#Create a program age variable\n",
    "#Do this before we do the train test split because the beginning of the program is a constant, so we don't\n",
    "#have to worry about 'contaminating' any of our data by applying the same transformation to the entire dataset\n",
    "\n",
    "#Convert to datetime object\n",
    "train_data_full['datetime'] = train_data_full['datetime'].apply(lambda x: datetime.strptime(x, '%Y-%m-%d %H:%M:%S'))\n",
    "test_data['datetime'] = test_data['datetime'].apply(lambda x: datetime.strptime(x, '%Y-%m-%d %H:%M:%S'))\n",
    "\n",
    "#Initialized program beginning\n",
    "prog_beginning = '2011-01-01 00:00:00'\n",
    "\n",
    "prog_beginning_conv = datetime.strptime(prog_beginning, '%Y-%m-%d %H:%M:%S')\n",
    "\n",
    "#Create a program age variable\n",
    "train_data_full['prog_age'] = train_data_full['datetime'] - prog_beginning_conv\n",
    "test_data['prog_age'] = test_data['datetime'] - prog_beginning_conv\n",
    "\n",
    "\n",
    "#convert the time delta to float of days\n",
    "train_data_full['prog_age'] = train_data_full['prog_age'].dt.total_seconds() / (24 * 60 * 60)\n",
    "test_data['prog_age'] = test_data['prog_age'].dt.total_seconds() / (24 * 60 * 60)\n",
    "\n",
    "\n",
    "#create an hour variable in both the training and development data\n",
    "train_data_full['hour'] = train_data_full.datetime.apply(lambda x : x.hour)\n",
    "test_data['hour'] = test_data.datetime.apply(lambda x : x.hour)"
   ]
  },
  {
   "cell_type": "code",
   "execution_count": 127,
   "metadata": {
    "collapsed": true
   },
   "outputs": [],
   "source": [
    "#Split into train and development\n",
    "train_data, dev_data = train_test_split(train_data_full, random_state = 0)"
   ]
  },
  {
   "cell_type": "code",
   "execution_count": 129,
   "metadata": {
    "collapsed": false
   },
   "outputs": [
    {
     "data": {
      "text/html": [
       "<div>\n",
       "<table border=\"1\" class=\"dataframe\">\n",
       "  <thead>\n",
       "    <tr style=\"text-align: right;\">\n",
       "      <th></th>\n",
       "      <th>season</th>\n",
       "      <th>holiday</th>\n",
       "      <th>workingday</th>\n",
       "      <th>weather</th>\n",
       "      <th>temp</th>\n",
       "      <th>atemp</th>\n",
       "      <th>humidity</th>\n",
       "      <th>windspeed</th>\n",
       "      <th>casual</th>\n",
       "      <th>registered</th>\n",
       "      <th>count</th>\n",
       "      <th>prog_age</th>\n",
       "      <th>hour</th>\n",
       "    </tr>\n",
       "  </thead>\n",
       "  <tbody>\n",
       "    <tr>\n",
       "      <th>count</th>\n",
       "      <td>8164.000000</td>\n",
       "      <td>8164.000000</td>\n",
       "      <td>8164.000000</td>\n",
       "      <td>8164.00000</td>\n",
       "      <td>8164.000000</td>\n",
       "      <td>8164.000000</td>\n",
       "      <td>8164.000000</td>\n",
       "      <td>8164.000000</td>\n",
       "      <td>8164.000000</td>\n",
       "      <td>8164.000000</td>\n",
       "      <td>8164.000000</td>\n",
       "      <td>8164.000000</td>\n",
       "      <td>8164.000000</td>\n",
       "    </tr>\n",
       "    <tr>\n",
       "      <th>mean</th>\n",
       "      <td>2.496570</td>\n",
       "      <td>0.029030</td>\n",
       "      <td>0.679936</td>\n",
       "      <td>1.41389</td>\n",
       "      <td>20.137509</td>\n",
       "      <td>23.551758</td>\n",
       "      <td>61.836722</td>\n",
       "      <td>12.832602</td>\n",
       "      <td>35.762371</td>\n",
       "      <td>154.923199</td>\n",
       "      <td>190.685571</td>\n",
       "      <td>359.423643</td>\n",
       "      <td>11.554998</td>\n",
       "    </tr>\n",
       "    <tr>\n",
       "      <th>std</th>\n",
       "      <td>1.118645</td>\n",
       "      <td>0.167901</td>\n",
       "      <td>0.466529</td>\n",
       "      <td>0.63025</td>\n",
       "      <td>7.776977</td>\n",
       "      <td>8.463277</td>\n",
       "      <td>19.239196</td>\n",
       "      <td>8.262360</td>\n",
       "      <td>49.826465</td>\n",
       "      <td>151.318558</td>\n",
       "      <td>181.191213</td>\n",
       "      <td>211.072559</td>\n",
       "      <td>6.929567</td>\n",
       "    </tr>\n",
       "    <tr>\n",
       "      <th>min</th>\n",
       "      <td>1.000000</td>\n",
       "      <td>0.000000</td>\n",
       "      <td>0.000000</td>\n",
       "      <td>1.00000</td>\n",
       "      <td>0.820000</td>\n",
       "      <td>2.275000</td>\n",
       "      <td>0.000000</td>\n",
       "      <td>0.000000</td>\n",
       "      <td>0.000000</td>\n",
       "      <td>0.000000</td>\n",
       "      <td>1.000000</td>\n",
       "      <td>0.000000</td>\n",
       "      <td>0.000000</td>\n",
       "    </tr>\n",
       "    <tr>\n",
       "      <th>25%</th>\n",
       "      <td>1.000000</td>\n",
       "      <td>0.000000</td>\n",
       "      <td>0.000000</td>\n",
       "      <td>1.00000</td>\n",
       "      <td>13.940000</td>\n",
       "      <td>16.665000</td>\n",
       "      <td>47.000000</td>\n",
       "      <td>7.001500</td>\n",
       "      <td>4.000000</td>\n",
       "      <td>36.000000</td>\n",
       "      <td>43.000000</td>\n",
       "      <td>181.072917</td>\n",
       "      <td>6.000000</td>\n",
       "    </tr>\n",
       "    <tr>\n",
       "      <th>50%</th>\n",
       "      <td>2.000000</td>\n",
       "      <td>0.000000</td>\n",
       "      <td>1.000000</td>\n",
       "      <td>1.00000</td>\n",
       "      <td>20.500000</td>\n",
       "      <td>24.240000</td>\n",
       "      <td>62.000000</td>\n",
       "      <td>12.998000</td>\n",
       "      <td>16.000000</td>\n",
       "      <td>116.000000</td>\n",
       "      <td>142.000000</td>\n",
       "      <td>365.854167</td>\n",
       "      <td>12.000000</td>\n",
       "    </tr>\n",
       "    <tr>\n",
       "      <th>75%</th>\n",
       "      <td>3.000000</td>\n",
       "      <td>0.000000</td>\n",
       "      <td>1.000000</td>\n",
       "      <td>2.00000</td>\n",
       "      <td>26.240000</td>\n",
       "      <td>31.060000</td>\n",
       "      <td>77.000000</td>\n",
       "      <td>16.997900</td>\n",
       "      <td>48.000000</td>\n",
       "      <td>223.000000</td>\n",
       "      <td>284.000000</td>\n",
       "      <td>535.635417</td>\n",
       "      <td>18.000000</td>\n",
       "    </tr>\n",
       "    <tr>\n",
       "      <th>max</th>\n",
       "      <td>4.000000</td>\n",
       "      <td>1.000000</td>\n",
       "      <td>1.000000</td>\n",
       "      <td>4.00000</td>\n",
       "      <td>41.000000</td>\n",
       "      <td>45.455000</td>\n",
       "      <td>100.000000</td>\n",
       "      <td>56.996900</td>\n",
       "      <td>367.000000</td>\n",
       "      <td>886.000000</td>\n",
       "      <td>977.000000</td>\n",
       "      <td>718.916667</td>\n",
       "      <td>23.000000</td>\n",
       "    </tr>\n",
       "  </tbody>\n",
       "</table>\n",
       "</div>"
      ],
      "text/plain": [
       "            season      holiday   workingday     weather         temp  \\\n",
       "count  8164.000000  8164.000000  8164.000000  8164.00000  8164.000000   \n",
       "mean      2.496570     0.029030     0.679936     1.41389    20.137509   \n",
       "std       1.118645     0.167901     0.466529     0.63025     7.776977   \n",
       "min       1.000000     0.000000     0.000000     1.00000     0.820000   \n",
       "25%       1.000000     0.000000     0.000000     1.00000    13.940000   \n",
       "50%       2.000000     0.000000     1.000000     1.00000    20.500000   \n",
       "75%       3.000000     0.000000     1.000000     2.00000    26.240000   \n",
       "max       4.000000     1.000000     1.000000     4.00000    41.000000   \n",
       "\n",
       "             atemp     humidity    windspeed       casual   registered  \\\n",
       "count  8164.000000  8164.000000  8164.000000  8164.000000  8164.000000   \n",
       "mean     23.551758    61.836722    12.832602    35.762371   154.923199   \n",
       "std       8.463277    19.239196     8.262360    49.826465   151.318558   \n",
       "min       2.275000     0.000000     0.000000     0.000000     0.000000   \n",
       "25%      16.665000    47.000000     7.001500     4.000000    36.000000   \n",
       "50%      24.240000    62.000000    12.998000    16.000000   116.000000   \n",
       "75%      31.060000    77.000000    16.997900    48.000000   223.000000   \n",
       "max      45.455000   100.000000    56.996900   367.000000   886.000000   \n",
       "\n",
       "             count     prog_age         hour  \n",
       "count  8164.000000  8164.000000  8164.000000  \n",
       "mean    190.685571   359.423643    11.554998  \n",
       "std     181.191213   211.072559     6.929567  \n",
       "min       1.000000     0.000000     0.000000  \n",
       "25%      43.000000   181.072917     6.000000  \n",
       "50%     142.000000   365.854167    12.000000  \n",
       "75%     284.000000   535.635417    18.000000  \n",
       "max     977.000000   718.916667    23.000000  "
      ]
     },
     "execution_count": 129,
     "metadata": {},
     "output_type": "execute_result"
    }
   ],
   "source": [
    "#Add a string desctriptor for weather\n",
    "weather_values = [1,2,3,4]\n",
    "weather_descriptions = ['Nice Weather', 'OK Weather', 'Poor Weather', 'Bad Weather']\n",
    "weather_dict_df = pd.DataFrame({'weather' : weather_values, 'weather_descriptions': weather_descriptions})\n",
    "\n",
    "weather_dict_df\n",
    "train_data = pd.merge(train_data, weather_dict_df, how = 'left')\n",
    "\n",
    "#Add a string descriptor for season\n",
    "season_values = [1,2,3,4]\n",
    "season_str = ['Spring', 'Summer', 'Fall', 'Winter']\n",
    "season_dict_df = pd.DataFrame({'season' : season_values, 'season_str': season_str})\n",
    "\n",
    "train_data = pd.merge(train_data, season_dict_df, how = 'left')\n",
    "\n",
    "train_data.head()\n",
    "\n",
    "train_data.describe()"
   ]
  },
  {
   "cell_type": "code",
   "execution_count": 130,
   "metadata": {
    "collapsed": false
   },
   "outputs": [
    {
     "data": {
      "text/plain": [
       "dtype('int64')"
      ]
     },
     "execution_count": 130,
     "metadata": {},
     "output_type": "execute_result"
    }
   ],
   "source": [
    "train_data.hour.dtype"
   ]
  },
  {
   "cell_type": "code",
   "execution_count": 132,
   "metadata": {
    "collapsed": true
   },
   "outputs": [],
   "source": [
    "#Helper function to calculate root mean squared error\n",
    "def get_RMSE(actual_values, predicted_values):\n",
    "    n = len(actual_values)\n",
    "    RMSE = np.sqrt(np.sum(((np.log(predicted_values + 1) - np.log(actual_values + 1)) ** 2) / n))\n",
    "    return RMSE\n",
    "\n",
    "    "
   ]
  },
  {
   "cell_type": "markdown",
   "metadata": {},
   "source": [
    "## Feature Engineering / Preprocessing"
   ]
  },
  {
   "cell_type": "code",
   "execution_count": 133,
   "metadata": {
    "collapsed": true
   },
   "outputs": [],
   "source": [
    "#Create lists of categorical and numeric predictors\n",
    "categorical_predictors = ['season', 'holiday', 'workingday', 'hour']\n",
    "numerical_predictors = ['temp', 'atemp', 'humidity', 'windspeed', 'prog_age']"
   ]
  },
  {
   "cell_type": "code",
   "execution_count": 134,
   "metadata": {
    "collapsed": true
   },
   "outputs": [],
   "source": [
    "#Categorical variable imputer\n",
    "class CategoricalImputer(BaseEstimator, TransformerMixin):\n",
    "    \n",
    "    def __init__(self, cols):\n",
    "        self.cols = cols\n",
    "        \n",
    "    def fit(self, X, y=None):\n",
    "        return self\n",
    "    \n",
    "    def transform(self, X):\n",
    "        transformed_df = X\n",
    "        for col in self.cols:\n",
    "            transformed_df.loc[:, col] = transformed_df.loc[:, col].astype(str)\n",
    "        return transformed_df\n",
    "       "
   ]
  },
  {
   "cell_type": "code",
   "execution_count": 135,
   "metadata": {
    "collapsed": false
   },
   "outputs": [],
   "source": [
    "#One-hot / hashing for categorical features\n",
    "from sklearn.feature_extraction import FeatureHasher, DictVectorizer\n",
    "\n",
    "class MyVectorizer(BaseEstimator, TransformerMixin):\n",
    "    \"\"\"\n",
    "    Vectorize a set of categorical variables\n",
    "    \"\"\"\n",
    "    \n",
    "    def __init__(self, cols, hashing=None):\n",
    "        \"\"\"\n",
    "        args:\n",
    "            cols: a list of column names of the categorical variables\n",
    "            hashing: \n",
    "                If None, then vectorization is a simple one-hot-encoding.\n",
    "                If an integer, then hashing is the number of features in the output.\n",
    "        \"\"\"\n",
    "        self.cols = cols\n",
    "        self.hashing = hashing\n",
    "        \n",
    "    def fit(self, X, y=None):      \n",
    "        #define the data\n",
    "        data = X[self.cols]\n",
    "        \n",
    "        #select a vectorizer based on the hashing argument\n",
    "        if self.hashing == None:\n",
    "            self.myvec = DictVectorizer(sparse=False)\n",
    "        else:\n",
    "            self.myvec = FeatureHasher(n_features=self.hashing)\n",
    "        \n",
    "        #fit the vectorizer chosen based on columns specified\n",
    "        self.myvec.fit(X[self.cols].to_dict(orient='records'))\n",
    "        return self\n",
    "            \n",
    "    def transform(self, X):\n",
    "        # Vectorize Input\n",
    "        if self.hashing is None:\n",
    "            return pd.DataFrame(\n",
    "                self.myvec.transform(X[self.cols].to_dict(orient='records')),\n",
    "                columns = self.myvec.feature_names_\n",
    "            )\n",
    "        else:\n",
    "            return pd.DataFrame(\n",
    "                self.myvec.transform(X[self.cols].to_dict(orient='records')).toarray()\n",
    "            )\n",
    "   "
   ]
  },
  {
   "cell_type": "code",
   "execution_count": 136,
   "metadata": {
    "collapsed": true
   },
   "outputs": [],
   "source": [
    "#Numerical variable imputer\n",
    "class MyNumericImputer(BaseEstimator, TransformerMixin):\n",
    "    \n",
    "    def __init__(self, cols, strategy = 'mean'):\n",
    "        self.cols = cols\n",
    "        self.strategy = strategy\n",
    "\n",
    "    def fit(self, X, y=None):       \n",
    "        self.imputer = Imputer(strategy = self.strategy)\n",
    "        self.imputer.fit(X[self.cols])\n",
    "        return self\n",
    "    \n",
    "    def transform(self, X):\n",
    "        return pd.DataFrame(self.imputer.transform(X[self.cols]), columns = self.cols)\n",
    "        #return self.imputer.transform(X[self.cols])\n"
   ]
  },
  {
   "cell_type": "code",
   "execution_count": 137,
   "metadata": {
    "collapsed": true
   },
   "outputs": [],
   "source": [
    "#Numeical variable scaler\n",
    "class MyScaler(BaseEstimator, TransformerMixin):\n",
    "    \n",
    "    def __init__(self, cols):\n",
    "        self.cols = cols\n",
    "        \n",
    "    def fit(self, X, y=None):\n",
    "        self.scaler = StandardScaler()\n",
    "        self.scaler.fit(X[self.cols])\n",
    "        return self\n",
    "    \n",
    "    def transform(self, X):\n",
    "        return pd.DataFrame(self.scaler.transform(X[self.cols]), columns = self.cols)"
   ]
  },
  {
   "cell_type": "code",
   "execution_count": 138,
   "metadata": {
    "collapsed": false
   },
   "outputs": [],
   "source": [
    "#Categorical pipeline\n",
    "\n",
    "#instantiate imputer and vectorizer for categorical pipe\n",
    "imp_for_pipe = CategoricalImputer(categorical_predictors)\n",
    "vect_for_pipe = MyVectorizer(cols = categorical_predictors, hashing = None)\n",
    "\n",
    "#construct pipeline\n",
    "categorical_pipe = Pipeline([\n",
    "        ('to_string', imp_for_pipe),\n",
    "        ('vectorize', vect_for_pipe)\n",
    "    ])"
   ]
  },
  {
   "cell_type": "code",
   "execution_count": 139,
   "metadata": {
    "collapsed": false
   },
   "outputs": [
    {
     "data": {
      "text/html": [
       "<div>\n",
       "<table border=\"1\" class=\"dataframe\">\n",
       "  <thead>\n",
       "    <tr style=\"text-align: right;\">\n",
       "      <th></th>\n",
       "      <th>holiday=0</th>\n",
       "      <th>holiday=1</th>\n",
       "      <th>hour=0</th>\n",
       "      <th>hour=1</th>\n",
       "      <th>hour=10</th>\n",
       "      <th>hour=11</th>\n",
       "      <th>hour=12</th>\n",
       "      <th>hour=13</th>\n",
       "      <th>hour=14</th>\n",
       "      <th>hour=15</th>\n",
       "      <th>...</th>\n",
       "      <th>hour=6</th>\n",
       "      <th>hour=7</th>\n",
       "      <th>hour=8</th>\n",
       "      <th>hour=9</th>\n",
       "      <th>season=1</th>\n",
       "      <th>season=2</th>\n",
       "      <th>season=3</th>\n",
       "      <th>season=4</th>\n",
       "      <th>workingday=0</th>\n",
       "      <th>workingday=1</th>\n",
       "    </tr>\n",
       "  </thead>\n",
       "  <tbody>\n",
       "    <tr>\n",
       "      <th>0</th>\n",
       "      <td>1.0</td>\n",
       "      <td>0.0</td>\n",
       "      <td>0.0</td>\n",
       "      <td>0.0</td>\n",
       "      <td>0.0</td>\n",
       "      <td>0.0</td>\n",
       "      <td>0.0</td>\n",
       "      <td>0.0</td>\n",
       "      <td>0.0</td>\n",
       "      <td>0.0</td>\n",
       "      <td>...</td>\n",
       "      <td>0.0</td>\n",
       "      <td>0.0</td>\n",
       "      <td>0.0</td>\n",
       "      <td>0.0</td>\n",
       "      <td>0.0</td>\n",
       "      <td>0.0</td>\n",
       "      <td>0.0</td>\n",
       "      <td>1.0</td>\n",
       "      <td>1.0</td>\n",
       "      <td>0.0</td>\n",
       "    </tr>\n",
       "    <tr>\n",
       "      <th>1</th>\n",
       "      <td>1.0</td>\n",
       "      <td>0.0</td>\n",
       "      <td>1.0</td>\n",
       "      <td>0.0</td>\n",
       "      <td>0.0</td>\n",
       "      <td>0.0</td>\n",
       "      <td>0.0</td>\n",
       "      <td>0.0</td>\n",
       "      <td>0.0</td>\n",
       "      <td>0.0</td>\n",
       "      <td>...</td>\n",
       "      <td>0.0</td>\n",
       "      <td>0.0</td>\n",
       "      <td>0.0</td>\n",
       "      <td>0.0</td>\n",
       "      <td>0.0</td>\n",
       "      <td>1.0</td>\n",
       "      <td>0.0</td>\n",
       "      <td>0.0</td>\n",
       "      <td>1.0</td>\n",
       "      <td>0.0</td>\n",
       "    </tr>\n",
       "    <tr>\n",
       "      <th>2</th>\n",
       "      <td>1.0</td>\n",
       "      <td>0.0</td>\n",
       "      <td>0.0</td>\n",
       "      <td>0.0</td>\n",
       "      <td>0.0</td>\n",
       "      <td>0.0</td>\n",
       "      <td>0.0</td>\n",
       "      <td>0.0</td>\n",
       "      <td>0.0</td>\n",
       "      <td>0.0</td>\n",
       "      <td>...</td>\n",
       "      <td>0.0</td>\n",
       "      <td>0.0</td>\n",
       "      <td>0.0</td>\n",
       "      <td>0.0</td>\n",
       "      <td>0.0</td>\n",
       "      <td>1.0</td>\n",
       "      <td>0.0</td>\n",
       "      <td>0.0</td>\n",
       "      <td>0.0</td>\n",
       "      <td>1.0</td>\n",
       "    </tr>\n",
       "    <tr>\n",
       "      <th>3</th>\n",
       "      <td>1.0</td>\n",
       "      <td>0.0</td>\n",
       "      <td>0.0</td>\n",
       "      <td>0.0</td>\n",
       "      <td>0.0</td>\n",
       "      <td>0.0</td>\n",
       "      <td>0.0</td>\n",
       "      <td>0.0</td>\n",
       "      <td>0.0</td>\n",
       "      <td>0.0</td>\n",
       "      <td>...</td>\n",
       "      <td>0.0</td>\n",
       "      <td>0.0</td>\n",
       "      <td>1.0</td>\n",
       "      <td>0.0</td>\n",
       "      <td>0.0</td>\n",
       "      <td>0.0</td>\n",
       "      <td>0.0</td>\n",
       "      <td>1.0</td>\n",
       "      <td>0.0</td>\n",
       "      <td>1.0</td>\n",
       "    </tr>\n",
       "    <tr>\n",
       "      <th>4</th>\n",
       "      <td>1.0</td>\n",
       "      <td>0.0</td>\n",
       "      <td>0.0</td>\n",
       "      <td>0.0</td>\n",
       "      <td>0.0</td>\n",
       "      <td>0.0</td>\n",
       "      <td>0.0</td>\n",
       "      <td>0.0</td>\n",
       "      <td>0.0</td>\n",
       "      <td>0.0</td>\n",
       "      <td>...</td>\n",
       "      <td>0.0</td>\n",
       "      <td>0.0</td>\n",
       "      <td>1.0</td>\n",
       "      <td>0.0</td>\n",
       "      <td>0.0</td>\n",
       "      <td>1.0</td>\n",
       "      <td>0.0</td>\n",
       "      <td>0.0</td>\n",
       "      <td>1.0</td>\n",
       "      <td>0.0</td>\n",
       "    </tr>\n",
       "  </tbody>\n",
       "</table>\n",
       "<p>5 rows × 32 columns</p>\n",
       "</div>"
      ],
      "text/plain": [
       "   holiday=0  holiday=1  hour=0  hour=1  hour=10  hour=11  hour=12  hour=13  \\\n",
       "0        1.0        0.0     0.0     0.0      0.0      0.0      0.0      0.0   \n",
       "1        1.0        0.0     1.0     0.0      0.0      0.0      0.0      0.0   \n",
       "2        1.0        0.0     0.0     0.0      0.0      0.0      0.0      0.0   \n",
       "3        1.0        0.0     0.0     0.0      0.0      0.0      0.0      0.0   \n",
       "4        1.0        0.0     0.0     0.0      0.0      0.0      0.0      0.0   \n",
       "\n",
       "   hour=14  hour=15      ...       hour=6  hour=7  hour=8  hour=9  season=1  \\\n",
       "0      0.0      0.0      ...          0.0     0.0     0.0     0.0       0.0   \n",
       "1      0.0      0.0      ...          0.0     0.0     0.0     0.0       0.0   \n",
       "2      0.0      0.0      ...          0.0     0.0     0.0     0.0       0.0   \n",
       "3      0.0      0.0      ...          0.0     0.0     1.0     0.0       0.0   \n",
       "4      0.0      0.0      ...          0.0     0.0     1.0     0.0       0.0   \n",
       "\n",
       "   season=2  season=3  season=4  workingday=0  workingday=1  \n",
       "0       0.0       0.0       1.0           1.0           0.0  \n",
       "1       1.0       0.0       0.0           1.0           0.0  \n",
       "2       1.0       0.0       0.0           0.0           1.0  \n",
       "3       0.0       0.0       1.0           0.0           1.0  \n",
       "4       1.0       0.0       0.0           1.0           0.0  \n",
       "\n",
       "[5 rows x 32 columns]"
      ]
     },
     "execution_count": 139,
     "metadata": {},
     "output_type": "execute_result"
    }
   ],
   "source": [
    "#test categorical pipeline\n",
    "transformed_train = categorical_pipe.fit_transform(train_data)\n",
    "\n",
    "transformed_train.head()"
   ]
  },
  {
   "cell_type": "code",
   "execution_count": 140,
   "metadata": {
    "collapsed": false
   },
   "outputs": [],
   "source": [
    "#Numerical variables pipeline\n",
    "\n",
    "#instantiate imputer for pipeline\n",
    "mynumimp = MyNumericImputer(cols = numerical_predictors, strategy = 'mean')\n",
    "#instantiate scaler for pipeline\n",
    "scaler = MyScaler(cols = numerical_predictors)\n",
    "\n",
    "#construct pipeline\n",
    "numerical_pipe = Pipeline([\n",
    "        ('impute', mynumimp),\n",
    "        ('scale', scaler)\n",
    "    ])"
   ]
  },
  {
   "cell_type": "code",
   "execution_count": 141,
   "metadata": {
    "collapsed": false
   },
   "outputs": [
    {
     "data": {
      "text/html": [
       "<div>\n",
       "<table border=\"1\" class=\"dataframe\">\n",
       "  <thead>\n",
       "    <tr style=\"text-align: right;\">\n",
       "      <th></th>\n",
       "      <th>temp</th>\n",
       "      <th>atemp</th>\n",
       "      <th>humidity</th>\n",
       "      <th>windspeed</th>\n",
       "      <th>prog_age</th>\n",
       "    </tr>\n",
       "  </thead>\n",
       "  <tbody>\n",
       "    <tr>\n",
       "      <th>0</th>\n",
       "      <td>-0.691508</td>\n",
       "      <td>-0.723967</td>\n",
       "      <td>1.619880</td>\n",
       "      <td>-0.464121</td>\n",
       "      <td>1.654910</td>\n",
       "    </tr>\n",
       "    <tr>\n",
       "      <th>1</th>\n",
       "      <td>1.101073</td>\n",
       "      <td>1.066229</td>\n",
       "      <td>0.164428</td>\n",
       "      <td>-1.553235</td>\n",
       "      <td>-0.902227</td>\n",
       "    </tr>\n",
       "    <tr>\n",
       "      <th>2</th>\n",
       "      <td>0.257505</td>\n",
       "      <td>0.260936</td>\n",
       "      <td>-1.291023</td>\n",
       "      <td>1.351609</td>\n",
       "      <td>0.646111</td>\n",
       "    </tr>\n",
       "    <tr>\n",
       "      <th>3</th>\n",
       "      <td>-0.164278</td>\n",
       "      <td>-0.097694</td>\n",
       "      <td>1.671860</td>\n",
       "      <td>0.020020</td>\n",
       "      <td>-0.095188</td>\n",
       "    </tr>\n",
       "    <tr>\n",
       "      <th>4</th>\n",
       "      <td>-0.586062</td>\n",
       "      <td>-0.455733</td>\n",
       "      <td>-0.823199</td>\n",
       "      <td>1.594085</td>\n",
       "      <td>-1.199141</td>\n",
       "    </tr>\n",
       "  </tbody>\n",
       "</table>\n",
       "</div>"
      ],
      "text/plain": [
       "       temp     atemp  humidity  windspeed  prog_age\n",
       "0 -0.691508 -0.723967  1.619880  -0.464121  1.654910\n",
       "1  1.101073  1.066229  0.164428  -1.553235 -0.902227\n",
       "2  0.257505  0.260936 -1.291023   1.351609  0.646111\n",
       "3 -0.164278 -0.097694  1.671860   0.020020 -0.095188\n",
       "4 -0.586062 -0.455733 -0.823199   1.594085 -1.199141"
      ]
     },
     "execution_count": 141,
     "metadata": {},
     "output_type": "execute_result"
    }
   ],
   "source": [
    "#test numerical pipeline\n",
    "transformed_train_2 = numerical_pipe.fit_transform(train_data)\n",
    "\n",
    "transformed_train_2.head()"
   ]
  },
  {
   "cell_type": "code",
   "execution_count": 142,
   "metadata": {
    "collapsed": false
   },
   "outputs": [
    {
     "data": {
      "text/html": [
       "<div>\n",
       "<table border=\"1\" class=\"dataframe\">\n",
       "  <thead>\n",
       "    <tr style=\"text-align: right;\">\n",
       "      <th></th>\n",
       "      <th>0</th>\n",
       "      <th>1</th>\n",
       "      <th>2</th>\n",
       "      <th>3</th>\n",
       "      <th>4</th>\n",
       "      <th>5</th>\n",
       "      <th>6</th>\n",
       "      <th>7</th>\n",
       "      <th>8</th>\n",
       "      <th>9</th>\n",
       "      <th>...</th>\n",
       "      <th>27</th>\n",
       "      <th>28</th>\n",
       "      <th>29</th>\n",
       "      <th>30</th>\n",
       "      <th>31</th>\n",
       "      <th>32</th>\n",
       "      <th>33</th>\n",
       "      <th>34</th>\n",
       "      <th>35</th>\n",
       "      <th>36</th>\n",
       "    </tr>\n",
       "  </thead>\n",
       "  <tbody>\n",
       "    <tr>\n",
       "      <th>0</th>\n",
       "      <td>-0.691508</td>\n",
       "      <td>-0.723967</td>\n",
       "      <td>1.619880</td>\n",
       "      <td>-0.464121</td>\n",
       "      <td>1.654910</td>\n",
       "      <td>1.0</td>\n",
       "      <td>0.0</td>\n",
       "      <td>0.0</td>\n",
       "      <td>0.0</td>\n",
       "      <td>0.0</td>\n",
       "      <td>...</td>\n",
       "      <td>0.0</td>\n",
       "      <td>0.0</td>\n",
       "      <td>0.0</td>\n",
       "      <td>0.0</td>\n",
       "      <td>0.0</td>\n",
       "      <td>0.0</td>\n",
       "      <td>0.0</td>\n",
       "      <td>1.0</td>\n",
       "      <td>1.0</td>\n",
       "      <td>0.0</td>\n",
       "    </tr>\n",
       "    <tr>\n",
       "      <th>1</th>\n",
       "      <td>1.101073</td>\n",
       "      <td>1.066229</td>\n",
       "      <td>0.164428</td>\n",
       "      <td>-1.553235</td>\n",
       "      <td>-0.902227</td>\n",
       "      <td>1.0</td>\n",
       "      <td>0.0</td>\n",
       "      <td>1.0</td>\n",
       "      <td>0.0</td>\n",
       "      <td>0.0</td>\n",
       "      <td>...</td>\n",
       "      <td>0.0</td>\n",
       "      <td>0.0</td>\n",
       "      <td>0.0</td>\n",
       "      <td>0.0</td>\n",
       "      <td>0.0</td>\n",
       "      <td>1.0</td>\n",
       "      <td>0.0</td>\n",
       "      <td>0.0</td>\n",
       "      <td>1.0</td>\n",
       "      <td>0.0</td>\n",
       "    </tr>\n",
       "    <tr>\n",
       "      <th>2</th>\n",
       "      <td>0.257505</td>\n",
       "      <td>0.260936</td>\n",
       "      <td>-1.291023</td>\n",
       "      <td>1.351609</td>\n",
       "      <td>0.646111</td>\n",
       "      <td>1.0</td>\n",
       "      <td>0.0</td>\n",
       "      <td>0.0</td>\n",
       "      <td>0.0</td>\n",
       "      <td>0.0</td>\n",
       "      <td>...</td>\n",
       "      <td>0.0</td>\n",
       "      <td>0.0</td>\n",
       "      <td>0.0</td>\n",
       "      <td>0.0</td>\n",
       "      <td>0.0</td>\n",
       "      <td>1.0</td>\n",
       "      <td>0.0</td>\n",
       "      <td>0.0</td>\n",
       "      <td>0.0</td>\n",
       "      <td>1.0</td>\n",
       "    </tr>\n",
       "    <tr>\n",
       "      <th>3</th>\n",
       "      <td>-0.164278</td>\n",
       "      <td>-0.097694</td>\n",
       "      <td>1.671860</td>\n",
       "      <td>0.020020</td>\n",
       "      <td>-0.095188</td>\n",
       "      <td>1.0</td>\n",
       "      <td>0.0</td>\n",
       "      <td>0.0</td>\n",
       "      <td>0.0</td>\n",
       "      <td>0.0</td>\n",
       "      <td>...</td>\n",
       "      <td>0.0</td>\n",
       "      <td>0.0</td>\n",
       "      <td>1.0</td>\n",
       "      <td>0.0</td>\n",
       "      <td>0.0</td>\n",
       "      <td>0.0</td>\n",
       "      <td>0.0</td>\n",
       "      <td>1.0</td>\n",
       "      <td>0.0</td>\n",
       "      <td>1.0</td>\n",
       "    </tr>\n",
       "    <tr>\n",
       "      <th>4</th>\n",
       "      <td>-0.586062</td>\n",
       "      <td>-0.455733</td>\n",
       "      <td>-0.823199</td>\n",
       "      <td>1.594085</td>\n",
       "      <td>-1.199141</td>\n",
       "      <td>1.0</td>\n",
       "      <td>0.0</td>\n",
       "      <td>0.0</td>\n",
       "      <td>0.0</td>\n",
       "      <td>0.0</td>\n",
       "      <td>...</td>\n",
       "      <td>0.0</td>\n",
       "      <td>0.0</td>\n",
       "      <td>1.0</td>\n",
       "      <td>0.0</td>\n",
       "      <td>0.0</td>\n",
       "      <td>1.0</td>\n",
       "      <td>0.0</td>\n",
       "      <td>0.0</td>\n",
       "      <td>1.0</td>\n",
       "      <td>0.0</td>\n",
       "    </tr>\n",
       "  </tbody>\n",
       "</table>\n",
       "<p>5 rows × 37 columns</p>\n",
       "</div>"
      ],
      "text/plain": [
       "         0         1         2         3         4    5    6    7    8    9   \\\n",
       "0 -0.691508 -0.723967  1.619880 -0.464121  1.654910  1.0  0.0  0.0  0.0  0.0   \n",
       "1  1.101073  1.066229  0.164428 -1.553235 -0.902227  1.0  0.0  1.0  0.0  0.0   \n",
       "2  0.257505  0.260936 -1.291023  1.351609  0.646111  1.0  0.0  0.0  0.0  0.0   \n",
       "3 -0.164278 -0.097694  1.671860  0.020020 -0.095188  1.0  0.0  0.0  0.0  0.0   \n",
       "4 -0.586062 -0.455733 -0.823199  1.594085 -1.199141  1.0  0.0  0.0  0.0  0.0   \n",
       "\n",
       "  ...    27   28   29   30   31   32   33   34   35   36  \n",
       "0 ...   0.0  0.0  0.0  0.0  0.0  0.0  0.0  1.0  1.0  0.0  \n",
       "1 ...   0.0  0.0  0.0  0.0  0.0  1.0  0.0  0.0  1.0  0.0  \n",
       "2 ...   0.0  0.0  0.0  0.0  0.0  1.0  0.0  0.0  0.0  1.0  \n",
       "3 ...   0.0  0.0  1.0  0.0  0.0  0.0  0.0  1.0  0.0  1.0  \n",
       "4 ...   0.0  0.0  1.0  0.0  0.0  1.0  0.0  0.0  1.0  0.0  \n",
       "\n",
       "[5 rows x 37 columns]"
      ]
     },
     "execution_count": 142,
     "metadata": {},
     "output_type": "execute_result"
    }
   ],
   "source": [
    "#transform both the categorical and numeric features using FeatureUnion\n",
    "fu = FeatureUnion([\n",
    "        ('numerical', numerical_pipe),\n",
    "        ('categorical', categorical_pipe)\n",
    "    ])\n",
    "\n",
    "\n",
    "#Training data\n",
    "X_train_transformed = fu.fit_transform(train_data)\n",
    "X_train_transformed_df = pd.DataFrame(X_train_transformed)\n",
    "\n",
    "#Development data\n",
    "X_dev_transformed = fu.transform(dev_data)\n",
    "X_dev_transformed_df = pd.DataFrame(X_dev_transformed)\n",
    "\n",
    "#test data\n",
    "X_test_transformed = fu.transform(test_data)\n",
    "X_test_transformed_df = pd.DataFrame(X_test_transformed)\n",
    "\n",
    "#X_dev_transformed_df.head()\n",
    "X_train_transformed_df.head()\n",
    "#X_dev_transformed_df.shape\n",
    "#dev_data.shape\n",
    "#dev_data['prog_age']\n",
    "#dev_data.prog_age\n",
    "#train_data['prog_age']"
   ]
  },
  {
   "cell_type": "code",
   "execution_count": 143,
   "metadata": {
    "collapsed": false
   },
   "outputs": [
    {
     "data": {
      "text/plain": [
       "dtype('int64')"
      ]
     },
     "execution_count": 143,
     "metadata": {},
     "output_type": "execute_result"
    }
   ],
   "source": [
    "train_data_full.hour.dtype"
   ]
  },
  {
   "cell_type": "markdown",
   "metadata": {},
   "source": [
    "## Model  \n",
    "\n",
    "Try fitting separate models for casual and registered, then add the results to get count.  \n",
    "\n",
    "In v1.2 of this model, tried fitting a decision tree regressor, the results from which were not as promising as random forest regressors. The decision tree regressor section has been removed from this notebook in the interest of brevity."
   ]
  },
  {
   "cell_type": "markdown",
   "metadata": {},
   "source": [
    "## Scoring Function for GridsearchCV"
   ]
  },
  {
   "cell_type": "code",
   "execution_count": 73,
   "metadata": {
    "collapsed": true
   },
   "outputs": [],
   "source": [
    "RMSE_scorer = make_scorer(get_RMSE, greater_is_better = False)"
   ]
  },
  {
   "cell_type": "markdown",
   "metadata": {
    "collapsed": true
   },
   "source": [
    "### Random Forest Regressor"
   ]
  },
  {
   "cell_type": "markdown",
   "metadata": {
    "collapsed": true
   },
   "source": [
    "#### Predict Total Rentals Directly"
   ]
  },
  {
   "cell_type": "code",
   "execution_count": 18,
   "metadata": {
    "collapsed": false
   },
   "outputs": [
    {
     "name": "stdout",
     "output_type": "stream",
     "text": [
      "Train Data Root Mean Squared Error: 0.249933894454\n",
      "dev Data Root Mean Squared Error: 0.473672919631\n"
     ]
    }
   ],
   "source": [
    "#instantiate the regressor with the best parameters found from Gridsearch\n",
    "rf = RandomForestRegressor(max_depth = 40, n_estimators = 200)\n",
    "\n",
    "#fit the classifier for casual rentals\n",
    "rf.fit(X_train_transformed_df, train_data['count'])\n",
    "\n",
    "#predict the training data and testing data\n",
    "preds_train = rf.predict(X_train_transformed_df)\n",
    "preds_dev = rf.predict(X_dev_transformed_df)\n",
    "preds_test = rf.predict(X_test_transformed_df)\n",
    "\n",
    "#actual\n",
    "actual_train = train_data['count']\n",
    "actual_dev = dev_data['count']\n",
    "\n",
    "#Get RMSE for train and de data\n",
    "RMSE_train = get_RMSE(actual_values = actual_train, predicted_values = preds_train)\n",
    "print \"Train Data Root Mean Squared Error: \" + str(RMSE_train)\n",
    "\n",
    "RMSE_dev = get_RMSE(actual_values = actual_dev, predicted_values = preds_dev)\n",
    "print \"dev Data Root Mean Squared Error: \" + str(RMSE_dev)\n"
   ]
  },
  {
   "cell_type": "markdown",
   "metadata": {},
   "source": [
    "### Adaboost"
   ]
  },
  {
   "cell_type": "code",
   "execution_count": 54,
   "metadata": {
    "collapsed": false
   },
   "outputs": [],
   "source": [
    "#Try adaboost\n",
    "#instantiate decision tree classifier\n",
    "dt = DecisionTreeRegressor()\n",
    "\n",
    "results_list = []\n",
    "\n",
    "n_estimators_list = np.arange(1, 100, 5).tolist()\n",
    "\n",
    "for n in n_estimators_list:\n",
    "    \n",
    "    #instantiate the adaboost regressor\n",
    "    ab = AdaBoostRegressor(n_estimators = n, learning_rate = .1, base_estimator = dt)\n",
    "\n",
    "    #fit the classifier for casual rentals\n",
    "    ab.fit(X_train_transformed_df, train_data['count'])\n",
    "\n",
    "    #predict the training data and testing data\n",
    "    preds_train = ab.predict(X_train_transformed_df)\n",
    "    preds_dev = ab.predict(X_dev_transformed_df)\n",
    "    preds_test = ab.predict(X_test_transformed_df)\n",
    "\n",
    "    #actual\n",
    "    actual_train = train_data['count']\n",
    "    actual_dev = dev_data['count']\n",
    "\n",
    "    #Get RMSE for train and de data\n",
    "    RMSE_train = get_RMSE(actual_values = actual_train, predicted_values = preds_train)\n",
    "    #print \"Train Data Root Mean Squared Error: \" + str(RMSE_train)\n",
    "\n",
    "    RMSE_dev = get_RMSE(actual_values = actual_dev, predicted_values = preds_dev)\n",
    "    #print \"dev Data Root Mean Squared Error: \" + str(RMSE_dev)\n",
    "    \n",
    "    results_list.append(RMSE_dev)\n",
    "    \n",
    "\n",
    "    \n",
    "    \n",
    "    \n"
   ]
  },
  {
   "cell_type": "code",
   "execution_count": 55,
   "metadata": {
    "collapsed": false
   },
   "outputs": [
    {
     "data": {
      "image/png": "[encoded data removed]",
      "text/plain": [
       "<matplotlib.figure.Figure at 0x11cf22f50>"
      ]
     },
     "metadata": {},
     "output_type": "display_data"
    }
   ],
   "source": [
    "plt.title('Dev Data RMSE by Number of Estimators')\n",
    "plt.xlabel('Number of Estimators')\n",
    "plt.ylabel('Dev Data RMSE')\n",
    "plt.plot(n_estimators_list, results_list)\n",
    "plt.show()"
   ]
  },
  {
   "cell_type": "code",
   "execution_count": 74,
   "metadata": {
    "collapsed": false
   },
   "outputs": [
    {
     "data": {
      "text/plain": [
       "{'learning_rate': 1.5, 'n_estimators': 20}"
      ]
     },
     "execution_count": 74,
     "metadata": {},
     "output_type": "execute_result"
    }
   ],
   "source": [
    "#Gridsearch CV with Adaboost\n",
    "dt = DecisionTreeRegressor()\n",
    "\n",
    "adb = AdaBoostRegressor(base_estimator = dt)\n",
    "\n",
    "#parameter grid is a dictionary with features and values you want to check\n",
    "parameter_grid = {'n_estimators': [10,15,20,25], 'learning_rate' : [1.5, 2.0, 2.5]}\n",
    "\n",
    "#instantiate Grid search\n",
    "searcher = GridSearchCV(adb, param_grid = parameter_grid, cv = 10, scoring = RMSE_scorer)\n",
    "searcher.fit(X_train_transformed_df, train_data['count'])\n",
    "\n",
    "#get best parameters\n",
    "searcher.best_params_\n",
    "\n",
    "#note the best parameters are 21 estimators and a learning rate of 1.5"
   ]
  },
  {
   "cell_type": "code",
   "execution_count": 75,
   "metadata": {
    "collapsed": false
   },
   "outputs": [
    {
     "name": "stdout",
     "output_type": "stream",
     "text": [
      "Train Data Root Mean Squared Error: 0.201868892764\n",
      "dev Data Root Mean Squared Error: 0.427286990246\n"
     ]
    }
   ],
   "source": [
    "#instantiate the adaboost regressor\n",
    "ab = AdaBoostRegressor(n_estimators = 20, learning_rate = 1.5, base_estimator = dt)\n",
    "\n",
    "#fit the classifier for casual rentals\n",
    "ab.fit(X_train_transformed_df, train_data['count'])\n",
    "\n",
    "#predict the training data and testing data\n",
    "preds_train = ab.predict(X_train_transformed_df)\n",
    "preds_dev = ab.predict(X_dev_transformed_df)\n",
    "preds_test = ab.predict(X_test_transformed_df)\n",
    "\n",
    "#actual\n",
    "actual_train = train_data['count']\n",
    "actual_dev = dev_data['count']\n",
    "\n",
    "#Get RMSE for train and de data\n",
    "RMSE_train = get_RMSE(actual_values = actual_train, predicted_values = preds_train)\n",
    "print \"Train Data Root Mean Squared Error: \" + str(RMSE_train)\n",
    "\n",
    "RMSE_dev = get_RMSE(actual_values = actual_dev, predicted_values = preds_dev)\n",
    "print \"dev Data Root Mean Squared Error: \" + str(RMSE_dev)"
   ]
  },
  {
   "cell_type": "markdown",
   "metadata": {},
   "source": [
    "### Gradient Boosting"
   ]
  },
  {
   "cell_type": "code",
   "execution_count": 78,
   "metadata": {
    "collapsed": false
   },
   "outputs": [
    {
     "name": "stderr",
     "output_type": "stream",
     "text": [
      "/Users/nwchen24/anaconda/envs/Machine_learning_python2/lib/python2.7/site-packages/ipykernel/__main__.py:4: RuntimeWarning: invalid value encountered in log\n",
      "/Users/nwchen24/anaconda/envs/Machine_learning_python2/lib/python2.7/site-packages/ipykernel/__main__.py:4: RuntimeWarning: divide by zero encountered in log\n"
     ]
    },
    {
     "data": {
      "text/plain": [
       "{'learning_rate': 1, 'loss': 'huber', 'n_estimators': 195}"
      ]
     },
     "execution_count": 78,
     "metadata": {},
     "output_type": "execute_result"
    }
   ],
   "source": [
    "#gridsearch CV with gradient boosting\n",
    "gb = GradientBoostingRegressor()\n",
    "\n",
    "#parameter grid is a dictionary with features and values you want to check\n",
    "parameter_grid = {'n_estimators': np.arange(190, 210, 5), 'learning_rate' : [.01, .1, 1, 1.5],\\\n",
    "                  'loss' : ['ls', 'lad', 'huber', 'quantile']}\n",
    "\n",
    "#instantiate Grid search\n",
    "searcher = GridSearchCV(gb, param_grid = parameter_grid, cv = 10, scoring = RMSE_scorer)\n",
    "searcher.fit(X_train_transformed_df, train_data['count'])\n",
    "\n",
    "#get best parameters\n",
    "searcher.best_params_\n",
    "#best learning rate is 1, best n_estimators is 200"
   ]
  },
  {
   "cell_type": "code",
   "execution_count": 80,
   "metadata": {
    "collapsed": false
   },
   "outputs": [
    {
     "name": "stdout",
     "output_type": "stream",
     "text": [
      "Train Data Root Mean Squared Error: 0.500553584622\n",
      "dev Data Root Mean Squared Error: 0.625984516055\n"
     ]
    },
    {
     "name": "stderr",
     "output_type": "stream",
     "text": [
      "/Users/nwchen24/anaconda/envs/Machine_learning_python2/lib/python2.7/site-packages/ipykernel/__main__.py:4: RuntimeWarning: invalid value encountered in log\n"
     ]
    }
   ],
   "source": [
    "gb = GradientBoostingRegressor(n_estimators = 195, learning_rate = 1, loss = 'huber')\n",
    "\n",
    "#fit the classifier\n",
    "gb.fit(X_train_transformed_df, train_data['count'])\n",
    "\n",
    "#predict the training data and testing data\n",
    "preds_train = gb.predict(X_train_transformed_df)\n",
    "preds_dev = gb.predict(X_dev_transformed_df)\n",
    "preds_test = gb.predict(X_test_transformed_df)\n",
    "\n",
    "#actual\n",
    "actual_train = train_data['count']\n",
    "actual_dev = dev_data['count']\n",
    "\n",
    "#Get RMSE for train and de data\n",
    "RMSE_train = get_RMSE(actual_values = actual_train, predicted_values = preds_train)\n",
    "print \"Train Data Root Mean Squared Error: \" + str(RMSE_train)\n",
    "\n",
    "RMSE_dev = get_RMSE(actual_values = actual_dev, predicted_values = preds_dev)\n",
    "print \"dev Data Root Mean Squared Error: \" + str(RMSE_dev)\n",
    "    \n"
   ]
  },
  {
   "cell_type": "markdown",
   "metadata": {},
   "source": [
    "### Adaboost - Split into Late Night and Not"
   ]
  },
  {
   "cell_type": "code",
   "execution_count": 107,
   "metadata": {
    "collapsed": false
   },
   "outputs": [
    {
     "ename": "ValueError",
     "evalue": "Found array with 0 sample(s) (shape=(0, 5)) while a minimum of 1 is required.",
     "output_type": "error",
     "traceback": [
      "\u001b[0;31m---------------------------------------------------------------------------\u001b[0m",
      "\u001b[0;31mValueError\u001b[0m                                Traceback (most recent call last)",
      "\u001b[0;32m<ipython-input-107-a0d750e388ef>\u001b[0m in \u001b[0;36m<module>\u001b[0;34m()\u001b[0m\n\u001b[1;32m     11\u001b[0m \u001b[0mlate_night_train_transformed_df\u001b[0m \u001b[0;34m=\u001b[0m \u001b[0mpd\u001b[0m\u001b[0;34m.\u001b[0m\u001b[0mDataFrame\u001b[0m\u001b[0;34m(\u001b[0m\u001b[0mlate_night_train_transformed\u001b[0m\u001b[0;34m)\u001b[0m\u001b[0;34m\u001b[0m\u001b[0m\n\u001b[1;32m     12\u001b[0m \u001b[0;34m\u001b[0m\u001b[0m\n\u001b[0;32m---> 13\u001b[0;31m \u001b[0mday_train_transformed\u001b[0m \u001b[0;34m=\u001b[0m \u001b[0mfu\u001b[0m\u001b[0;34m.\u001b[0m\u001b[0mfit_transform\u001b[0m\u001b[0;34m(\u001b[0m\u001b[0mday_train\u001b[0m\u001b[0;34m)\u001b[0m\u001b[0;34m\u001b[0m\u001b[0m\n\u001b[0m\u001b[1;32m     14\u001b[0m \u001b[0mday_train_transformed_df\u001b[0m \u001b[0;34m=\u001b[0m \u001b[0mpd\u001b[0m\u001b[0;34m.\u001b[0m\u001b[0mDataFrame\u001b[0m\u001b[0;34m(\u001b[0m\u001b[0mday_train_transformed\u001b[0m\u001b[0;34m)\u001b[0m\u001b[0;34m\u001b[0m\u001b[0m\n\u001b[1;32m     15\u001b[0m \u001b[0;34m\u001b[0m\u001b[0m\n",
      "\u001b[0;32m/Users/nwchen24/anaconda/envs/Machine_learning_python2/lib/python2.7/site-packages/sklearn/pipeline.pyc\u001b[0m in \u001b[0;36mfit_transform\u001b[0;34m(self, X, y, **fit_params)\u001b[0m\n\u001b[1;32m    732\u001b[0m             delayed(_fit_transform_one)(trans, name, weight, X, y,\n\u001b[1;32m    733\u001b[0m                                         **fit_params)\n\u001b[0;32m--> 734\u001b[0;31m             for name, trans, weight in self._iter())\n\u001b[0m\u001b[1;32m    735\u001b[0m \u001b[0;34m\u001b[0m\u001b[0m\n\u001b[1;32m    736\u001b[0m         \u001b[0;32mif\u001b[0m \u001b[0;32mnot\u001b[0m \u001b[0mresult\u001b[0m\u001b[0;34m:\u001b[0m\u001b[0;34m\u001b[0m\u001b[0m\n",
      "\u001b[0;32m/Users/nwchen24/anaconda/envs/Machine_learning_python2/lib/python2.7/site-packages/sklearn/externals/joblib/parallel.pyc\u001b[0m in \u001b[0;36m__call__\u001b[0;34m(self, iterable)\u001b[0m\n\u001b[1;32m    756\u001b[0m             \u001b[0;31m# was dispatched. In particular this covers the edge\u001b[0m\u001b[0;34m\u001b[0m\u001b[0;34m\u001b[0m\u001b[0m\n\u001b[1;32m    757\u001b[0m             \u001b[0;31m# case of Parallel used with an exhausted iterator.\u001b[0m\u001b[0;34m\u001b[0m\u001b[0;34m\u001b[0m\u001b[0m\n\u001b[0;32m--> 758\u001b[0;31m             \u001b[0;32mwhile\u001b[0m \u001b[0mself\u001b[0m\u001b[0;34m.\u001b[0m\u001b[0mdispatch_one_batch\u001b[0m\u001b[0;34m(\u001b[0m\u001b[0miterator\u001b[0m\u001b[0;34m)\u001b[0m\u001b[0;34m:\u001b[0m\u001b[0;34m\u001b[0m\u001b[0m\n\u001b[0m\u001b[1;32m    759\u001b[0m                 \u001b[0mself\u001b[0m\u001b[0;34m.\u001b[0m\u001b[0m_iterating\u001b[0m \u001b[0;34m=\u001b[0m \u001b[0mTrue\u001b[0m\u001b[0;34m\u001b[0m\u001b[0m\n\u001b[1;32m    760\u001b[0m             \u001b[0;32melse\u001b[0m\u001b[0;34m:\u001b[0m\u001b[0;34m\u001b[0m\u001b[0m\n",
      "\u001b[0;32m/Users/nwchen24/anaconda/envs/Machine_learning_python2/lib/python2.7/site-packages/sklearn/externals/joblib/parallel.pyc\u001b[0m in \u001b[0;36mdispatch_one_batch\u001b[0;34m(self, iterator)\u001b[0m\n\u001b[1;32m    606\u001b[0m                 \u001b[0;32mreturn\u001b[0m \u001b[0mFalse\u001b[0m\u001b[0;34m\u001b[0m\u001b[0m\n\u001b[1;32m    607\u001b[0m             \u001b[0;32melse\u001b[0m\u001b[0;34m:\u001b[0m\u001b[0;34m\u001b[0m\u001b[0m\n\u001b[0;32m--> 608\u001b[0;31m                 \u001b[0mself\u001b[0m\u001b[0;34m.\u001b[0m\u001b[0m_dispatch\u001b[0m\u001b[0;34m(\u001b[0m\u001b[0mtasks\u001b[0m\u001b[0;34m)\u001b[0m\u001b[0;34m\u001b[0m\u001b[0m\n\u001b[0m\u001b[1;32m    609\u001b[0m                 \u001b[0;32mreturn\u001b[0m \u001b[0mTrue\u001b[0m\u001b[0;34m\u001b[0m\u001b[0m\n\u001b[1;32m    610\u001b[0m \u001b[0;34m\u001b[0m\u001b[0m\n",
      "\u001b[0;32m/Users/nwchen24/anaconda/envs/Machine_learning_python2/lib/python2.7/site-packages/sklearn/externals/joblib/parallel.pyc\u001b[0m in \u001b[0;36m_dispatch\u001b[0;34m(self, batch)\u001b[0m\n\u001b[1;32m    569\u001b[0m         \u001b[0mdispatch_timestamp\u001b[0m \u001b[0;34m=\u001b[0m \u001b[0mtime\u001b[0m\u001b[0;34m.\u001b[0m\u001b[0mtime\u001b[0m\u001b[0;34m(\u001b[0m\u001b[0;34m)\u001b[0m\u001b[0;34m\u001b[0m\u001b[0m\n\u001b[1;32m    570\u001b[0m         \u001b[0mcb\u001b[0m \u001b[0;34m=\u001b[0m \u001b[0mBatchCompletionCallBack\u001b[0m\u001b[0;34m(\u001b[0m\u001b[0mdispatch_timestamp\u001b[0m\u001b[0;34m,\u001b[0m \u001b[0mlen\u001b[0m\u001b[0;34m(\u001b[0m\u001b[0mbatch\u001b[0m\u001b[0;34m)\u001b[0m\u001b[0;34m,\u001b[0m \u001b[0mself\u001b[0m\u001b[0;34m)\u001b[0m\u001b[0;34m\u001b[0m\u001b[0m\n\u001b[0;32m--> 571\u001b[0;31m         \u001b[0mjob\u001b[0m \u001b[0;34m=\u001b[0m \u001b[0mself\u001b[0m\u001b[0;34m.\u001b[0m\u001b[0m_backend\u001b[0m\u001b[0;34m.\u001b[0m\u001b[0mapply_async\u001b[0m\u001b[0;34m(\u001b[0m\u001b[0mbatch\u001b[0m\u001b[0;34m,\u001b[0m \u001b[0mcallback\u001b[0m\u001b[0;34m=\u001b[0m\u001b[0mcb\u001b[0m\u001b[0;34m)\u001b[0m\u001b[0;34m\u001b[0m\u001b[0m\n\u001b[0m\u001b[1;32m    572\u001b[0m         \u001b[0mself\u001b[0m\u001b[0;34m.\u001b[0m\u001b[0m_jobs\u001b[0m\u001b[0;34m.\u001b[0m\u001b[0mappend\u001b[0m\u001b[0;34m(\u001b[0m\u001b[0mjob\u001b[0m\u001b[0;34m)\u001b[0m\u001b[0;34m\u001b[0m\u001b[0m\n\u001b[1;32m    573\u001b[0m \u001b[0;34m\u001b[0m\u001b[0m\n",
      "\u001b[0;32m/Users/nwchen24/anaconda/envs/Machine_learning_python2/lib/python2.7/site-packages/sklearn/externals/joblib/_parallel_backends.pyc\u001b[0m in \u001b[0;36mapply_async\u001b[0;34m(self, func, callback)\u001b[0m\n\u001b[1;32m    107\u001b[0m     \u001b[0;32mdef\u001b[0m \u001b[0mapply_async\u001b[0m\u001b[0;34m(\u001b[0m\u001b[0mself\u001b[0m\u001b[0;34m,\u001b[0m \u001b[0mfunc\u001b[0m\u001b[0;34m,\u001b[0m \u001b[0mcallback\u001b[0m\u001b[0;34m=\u001b[0m\u001b[0mNone\u001b[0m\u001b[0;34m)\u001b[0m\u001b[0;34m:\u001b[0m\u001b[0;34m\u001b[0m\u001b[0m\n\u001b[1;32m    108\u001b[0m         \u001b[0;34m\"\"\"Schedule a func to be run\"\"\"\u001b[0m\u001b[0;34m\u001b[0m\u001b[0m\n\u001b[0;32m--> 109\u001b[0;31m         \u001b[0mresult\u001b[0m \u001b[0;34m=\u001b[0m \u001b[0mImmediateResult\u001b[0m\u001b[0;34m(\u001b[0m\u001b[0mfunc\u001b[0m\u001b[0;34m)\u001b[0m\u001b[0;34m\u001b[0m\u001b[0m\n\u001b[0m\u001b[1;32m    110\u001b[0m         \u001b[0;32mif\u001b[0m \u001b[0mcallback\u001b[0m\u001b[0;34m:\u001b[0m\u001b[0;34m\u001b[0m\u001b[0m\n\u001b[1;32m    111\u001b[0m             \u001b[0mcallback\u001b[0m\u001b[0;34m(\u001b[0m\u001b[0mresult\u001b[0m\u001b[0;34m)\u001b[0m\u001b[0;34m\u001b[0m\u001b[0m\n",
      "\u001b[0;32m/Users/nwchen24/anaconda/envs/Machine_learning_python2/lib/python2.7/site-packages/sklearn/externals/joblib/_parallel_backends.pyc\u001b[0m in \u001b[0;36m__init__\u001b[0;34m(self, batch)\u001b[0m\n\u001b[1;32m    324\u001b[0m         \u001b[0;31m# Don't delay the application, to avoid keeping the input\u001b[0m\u001b[0;34m\u001b[0m\u001b[0;34m\u001b[0m\u001b[0m\n\u001b[1;32m    325\u001b[0m         \u001b[0;31m# arguments in memory\u001b[0m\u001b[0;34m\u001b[0m\u001b[0;34m\u001b[0m\u001b[0m\n\u001b[0;32m--> 326\u001b[0;31m         \u001b[0mself\u001b[0m\u001b[0;34m.\u001b[0m\u001b[0mresults\u001b[0m \u001b[0;34m=\u001b[0m \u001b[0mbatch\u001b[0m\u001b[0;34m(\u001b[0m\u001b[0;34m)\u001b[0m\u001b[0;34m\u001b[0m\u001b[0m\n\u001b[0m\u001b[1;32m    327\u001b[0m \u001b[0;34m\u001b[0m\u001b[0m\n\u001b[1;32m    328\u001b[0m     \u001b[0;32mdef\u001b[0m \u001b[0mget\u001b[0m\u001b[0;34m(\u001b[0m\u001b[0mself\u001b[0m\u001b[0;34m)\u001b[0m\u001b[0;34m:\u001b[0m\u001b[0;34m\u001b[0m\u001b[0m\n",
      "\u001b[0;32m/Users/nwchen24/anaconda/envs/Machine_learning_python2/lib/python2.7/site-packages/sklearn/externals/joblib/parallel.pyc\u001b[0m in \u001b[0;36m__call__\u001b[0;34m(self)\u001b[0m\n\u001b[1;32m    129\u001b[0m \u001b[0;34m\u001b[0m\u001b[0m\n\u001b[1;32m    130\u001b[0m     \u001b[0;32mdef\u001b[0m \u001b[0m__call__\u001b[0m\u001b[0;34m(\u001b[0m\u001b[0mself\u001b[0m\u001b[0;34m)\u001b[0m\u001b[0;34m:\u001b[0m\u001b[0;34m\u001b[0m\u001b[0m\n\u001b[0;32m--> 131\u001b[0;31m         \u001b[0;32mreturn\u001b[0m \u001b[0;34m[\u001b[0m\u001b[0mfunc\u001b[0m\u001b[0;34m(\u001b[0m\u001b[0;34m*\u001b[0m\u001b[0margs\u001b[0m\u001b[0;34m,\u001b[0m \u001b[0;34m**\u001b[0m\u001b[0mkwargs\u001b[0m\u001b[0;34m)\u001b[0m \u001b[0;32mfor\u001b[0m \u001b[0mfunc\u001b[0m\u001b[0;34m,\u001b[0m \u001b[0margs\u001b[0m\u001b[0;34m,\u001b[0m \u001b[0mkwargs\u001b[0m \u001b[0;32min\u001b[0m \u001b[0mself\u001b[0m\u001b[0;34m.\u001b[0m\u001b[0mitems\u001b[0m\u001b[0;34m]\u001b[0m\u001b[0;34m\u001b[0m\u001b[0m\n\u001b[0m\u001b[1;32m    132\u001b[0m \u001b[0;34m\u001b[0m\u001b[0m\n\u001b[1;32m    133\u001b[0m     \u001b[0;32mdef\u001b[0m \u001b[0m__len__\u001b[0m\u001b[0;34m(\u001b[0m\u001b[0mself\u001b[0m\u001b[0;34m)\u001b[0m\u001b[0;34m:\u001b[0m\u001b[0;34m\u001b[0m\u001b[0m\n",
      "\u001b[0;32m/Users/nwchen24/anaconda/envs/Machine_learning_python2/lib/python2.7/site-packages/sklearn/pipeline.pyc\u001b[0m in \u001b[0;36m_fit_transform_one\u001b[0;34m(transformer, name, weight, X, y, **fit_params)\u001b[0m\n\u001b[1;32m    575\u001b[0m                        **fit_params):\n\u001b[1;32m    576\u001b[0m     \u001b[0;32mif\u001b[0m \u001b[0mhasattr\u001b[0m\u001b[0;34m(\u001b[0m\u001b[0mtransformer\u001b[0m\u001b[0;34m,\u001b[0m \u001b[0;34m'fit_transform'\u001b[0m\u001b[0;34m)\u001b[0m\u001b[0;34m:\u001b[0m\u001b[0;34m\u001b[0m\u001b[0m\n\u001b[0;32m--> 577\u001b[0;31m         \u001b[0mres\u001b[0m \u001b[0;34m=\u001b[0m \u001b[0mtransformer\u001b[0m\u001b[0;34m.\u001b[0m\u001b[0mfit_transform\u001b[0m\u001b[0;34m(\u001b[0m\u001b[0mX\u001b[0m\u001b[0;34m,\u001b[0m \u001b[0my\u001b[0m\u001b[0;34m,\u001b[0m \u001b[0;34m**\u001b[0m\u001b[0mfit_params\u001b[0m\u001b[0;34m)\u001b[0m\u001b[0;34m\u001b[0m\u001b[0m\n\u001b[0m\u001b[1;32m    578\u001b[0m     \u001b[0;32melse\u001b[0m\u001b[0;34m:\u001b[0m\u001b[0;34m\u001b[0m\u001b[0m\n\u001b[1;32m    579\u001b[0m         \u001b[0mres\u001b[0m \u001b[0;34m=\u001b[0m \u001b[0mtransformer\u001b[0m\u001b[0;34m.\u001b[0m\u001b[0mfit\u001b[0m\u001b[0;34m(\u001b[0m\u001b[0mX\u001b[0m\u001b[0;34m,\u001b[0m \u001b[0my\u001b[0m\u001b[0;34m,\u001b[0m \u001b[0;34m**\u001b[0m\u001b[0mfit_params\u001b[0m\u001b[0;34m)\u001b[0m\u001b[0;34m.\u001b[0m\u001b[0mtransform\u001b[0m\u001b[0;34m(\u001b[0m\u001b[0mX\u001b[0m\u001b[0;34m)\u001b[0m\u001b[0;34m\u001b[0m\u001b[0m\n",
      "\u001b[0;32m/Users/nwchen24/anaconda/envs/Machine_learning_python2/lib/python2.7/site-packages/sklearn/pipeline.pyc\u001b[0m in \u001b[0;36mfit_transform\u001b[0;34m(self, X, y, **fit_params)\u001b[0m\n\u001b[1;32m    299\u001b[0m         \"\"\"\n\u001b[1;32m    300\u001b[0m         \u001b[0mlast_step\u001b[0m \u001b[0;34m=\u001b[0m \u001b[0mself\u001b[0m\u001b[0;34m.\u001b[0m\u001b[0m_final_estimator\u001b[0m\u001b[0;34m\u001b[0m\u001b[0m\n\u001b[0;32m--> 301\u001b[0;31m         \u001b[0mXt\u001b[0m\u001b[0;34m,\u001b[0m \u001b[0mfit_params\u001b[0m \u001b[0;34m=\u001b[0m \u001b[0mself\u001b[0m\u001b[0;34m.\u001b[0m\u001b[0m_fit\u001b[0m\u001b[0;34m(\u001b[0m\u001b[0mX\u001b[0m\u001b[0;34m,\u001b[0m \u001b[0my\u001b[0m\u001b[0;34m,\u001b[0m \u001b[0;34m**\u001b[0m\u001b[0mfit_params\u001b[0m\u001b[0;34m)\u001b[0m\u001b[0;34m\u001b[0m\u001b[0m\n\u001b[0m\u001b[1;32m    302\u001b[0m         \u001b[0;32mif\u001b[0m \u001b[0mhasattr\u001b[0m\u001b[0;34m(\u001b[0m\u001b[0mlast_step\u001b[0m\u001b[0;34m,\u001b[0m \u001b[0;34m'fit_transform'\u001b[0m\u001b[0;34m)\u001b[0m\u001b[0;34m:\u001b[0m\u001b[0;34m\u001b[0m\u001b[0m\n\u001b[1;32m    303\u001b[0m             \u001b[0;32mreturn\u001b[0m \u001b[0mlast_step\u001b[0m\u001b[0;34m.\u001b[0m\u001b[0mfit_transform\u001b[0m\u001b[0;34m(\u001b[0m\u001b[0mXt\u001b[0m\u001b[0;34m,\u001b[0m \u001b[0my\u001b[0m\u001b[0;34m,\u001b[0m \u001b[0;34m**\u001b[0m\u001b[0mfit_params\u001b[0m\u001b[0;34m)\u001b[0m\u001b[0;34m\u001b[0m\u001b[0m\n",
      "\u001b[0;32m/Users/nwchen24/anaconda/envs/Machine_learning_python2/lib/python2.7/site-packages/sklearn/pipeline.pyc\u001b[0m in \u001b[0;36m_fit\u001b[0;34m(self, X, y, **fit_params)\u001b[0m\n\u001b[1;32m    232\u001b[0m                 \u001b[0;32mpass\u001b[0m\u001b[0;34m\u001b[0m\u001b[0m\n\u001b[1;32m    233\u001b[0m             \u001b[0;32melif\u001b[0m \u001b[0mhasattr\u001b[0m\u001b[0;34m(\u001b[0m\u001b[0mtransform\u001b[0m\u001b[0;34m,\u001b[0m \u001b[0;34m\"fit_transform\"\u001b[0m\u001b[0;34m)\u001b[0m\u001b[0;34m:\u001b[0m\u001b[0;34m\u001b[0m\u001b[0m\n\u001b[0;32m--> 234\u001b[0;31m                 \u001b[0mXt\u001b[0m \u001b[0;34m=\u001b[0m \u001b[0mtransform\u001b[0m\u001b[0;34m.\u001b[0m\u001b[0mfit_transform\u001b[0m\u001b[0;34m(\u001b[0m\u001b[0mXt\u001b[0m\u001b[0;34m,\u001b[0m \u001b[0my\u001b[0m\u001b[0;34m,\u001b[0m \u001b[0;34m**\u001b[0m\u001b[0mfit_params_steps\u001b[0m\u001b[0;34m[\u001b[0m\u001b[0mname\u001b[0m\u001b[0;34m]\u001b[0m\u001b[0;34m)\u001b[0m\u001b[0;34m\u001b[0m\u001b[0m\n\u001b[0m\u001b[1;32m    235\u001b[0m             \u001b[0;32melse\u001b[0m\u001b[0;34m:\u001b[0m\u001b[0;34m\u001b[0m\u001b[0m\n\u001b[1;32m    236\u001b[0m                 \u001b[0mXt\u001b[0m \u001b[0;34m=\u001b[0m \u001b[0mtransform\u001b[0m\u001b[0;34m.\u001b[0m\u001b[0mfit\u001b[0m\u001b[0;34m(\u001b[0m\u001b[0mXt\u001b[0m\u001b[0;34m,\u001b[0m \u001b[0my\u001b[0m\u001b[0;34m,\u001b[0m \u001b[0;34m**\u001b[0m\u001b[0mfit_params_steps\u001b[0m\u001b[0;34m[\u001b[0m\u001b[0mname\u001b[0m\u001b[0;34m]\u001b[0m\u001b[0;34m)\u001b[0m\u001b[0;31m \u001b[0m\u001b[0;31m\\\u001b[0m\u001b[0;34m\u001b[0m\u001b[0m\n",
      "\u001b[0;32m/Users/nwchen24/anaconda/envs/Machine_learning_python2/lib/python2.7/site-packages/sklearn/base.pyc\u001b[0m in \u001b[0;36mfit_transform\u001b[0;34m(self, X, y, **fit_params)\u001b[0m\n\u001b[1;32m    492\u001b[0m         \u001b[0;32mif\u001b[0m \u001b[0my\u001b[0m \u001b[0;32mis\u001b[0m \u001b[0mNone\u001b[0m\u001b[0;34m:\u001b[0m\u001b[0;34m\u001b[0m\u001b[0m\n\u001b[1;32m    493\u001b[0m             \u001b[0;31m# fit method of arity 1 (unsupervised transformation)\u001b[0m\u001b[0;34m\u001b[0m\u001b[0;34m\u001b[0m\u001b[0m\n\u001b[0;32m--> 494\u001b[0;31m             \u001b[0;32mreturn\u001b[0m \u001b[0mself\u001b[0m\u001b[0;34m.\u001b[0m\u001b[0mfit\u001b[0m\u001b[0;34m(\u001b[0m\u001b[0mX\u001b[0m\u001b[0;34m,\u001b[0m \u001b[0;34m**\u001b[0m\u001b[0mfit_params\u001b[0m\u001b[0;34m)\u001b[0m\u001b[0;34m.\u001b[0m\u001b[0mtransform\u001b[0m\u001b[0;34m(\u001b[0m\u001b[0mX\u001b[0m\u001b[0;34m)\u001b[0m\u001b[0;34m\u001b[0m\u001b[0m\n\u001b[0m\u001b[1;32m    495\u001b[0m         \u001b[0;32melse\u001b[0m\u001b[0;34m:\u001b[0m\u001b[0;34m\u001b[0m\u001b[0m\n\u001b[1;32m    496\u001b[0m             \u001b[0;31m# fit method of arity 2 (supervised transformation)\u001b[0m\u001b[0;34m\u001b[0m\u001b[0;34m\u001b[0m\u001b[0m\n",
      "\u001b[0;32m<ipython-input-11-db95d7052d9c>\u001b[0m in \u001b[0;36mfit\u001b[0;34m(self, X, y)\u001b[0m\n\u001b[1;32m      8\u001b[0m     \u001b[0;32mdef\u001b[0m \u001b[0mfit\u001b[0m\u001b[0;34m(\u001b[0m\u001b[0mself\u001b[0m\u001b[0;34m,\u001b[0m \u001b[0mX\u001b[0m\u001b[0;34m,\u001b[0m \u001b[0my\u001b[0m\u001b[0;34m=\u001b[0m\u001b[0mNone\u001b[0m\u001b[0;34m)\u001b[0m\u001b[0;34m:\u001b[0m\u001b[0;34m\u001b[0m\u001b[0m\n\u001b[1;32m      9\u001b[0m         \u001b[0mself\u001b[0m\u001b[0;34m.\u001b[0m\u001b[0mimputer\u001b[0m \u001b[0;34m=\u001b[0m \u001b[0mImputer\u001b[0m\u001b[0;34m(\u001b[0m\u001b[0mstrategy\u001b[0m \u001b[0;34m=\u001b[0m \u001b[0mself\u001b[0m\u001b[0;34m.\u001b[0m\u001b[0mstrategy\u001b[0m\u001b[0;34m)\u001b[0m\u001b[0;34m\u001b[0m\u001b[0m\n\u001b[0;32m---> 10\u001b[0;31m         \u001b[0mself\u001b[0m\u001b[0;34m.\u001b[0m\u001b[0mimputer\u001b[0m\u001b[0;34m.\u001b[0m\u001b[0mfit\u001b[0m\u001b[0;34m(\u001b[0m\u001b[0mX\u001b[0m\u001b[0;34m[\u001b[0m\u001b[0mself\u001b[0m\u001b[0;34m.\u001b[0m\u001b[0mcols\u001b[0m\u001b[0;34m]\u001b[0m\u001b[0;34m)\u001b[0m\u001b[0;34m\u001b[0m\u001b[0m\n\u001b[0m\u001b[1;32m     11\u001b[0m         \u001b[0;32mreturn\u001b[0m \u001b[0mself\u001b[0m\u001b[0;34m\u001b[0m\u001b[0m\n\u001b[1;32m     12\u001b[0m \u001b[0;34m\u001b[0m\u001b[0m\n",
      "\u001b[0;32m/Users/nwchen24/anaconda/envs/Machine_learning_python2/lib/python2.7/site-packages/sklearn/preprocessing/imputation.pyc\u001b[0m in \u001b[0;36mfit\u001b[0;34m(self, X, y)\u001b[0m\n\u001b[1;32m    154\u001b[0m         \u001b[0;32mif\u001b[0m \u001b[0mself\u001b[0m\u001b[0;34m.\u001b[0m\u001b[0maxis\u001b[0m \u001b[0;34m==\u001b[0m \u001b[0;36m0\u001b[0m\u001b[0;34m:\u001b[0m\u001b[0;34m\u001b[0m\u001b[0m\n\u001b[1;32m    155\u001b[0m             X = check_array(X, accept_sparse='csc', dtype=np.float64,\n\u001b[0;32m--> 156\u001b[0;31m                             force_all_finite=False)\n\u001b[0m\u001b[1;32m    157\u001b[0m \u001b[0;34m\u001b[0m\u001b[0m\n\u001b[1;32m    158\u001b[0m             \u001b[0;32mif\u001b[0m \u001b[0msparse\u001b[0m\u001b[0;34m.\u001b[0m\u001b[0missparse\u001b[0m\u001b[0;34m(\u001b[0m\u001b[0mX\u001b[0m\u001b[0;34m)\u001b[0m\u001b[0;34m:\u001b[0m\u001b[0;34m\u001b[0m\u001b[0m\n",
      "\u001b[0;32m/Users/nwchen24/anaconda/envs/Machine_learning_python2/lib/python2.7/site-packages/sklearn/utils/validation.pyc\u001b[0m in \u001b[0;36mcheck_array\u001b[0;34m(array, accept_sparse, dtype, order, copy, force_all_finite, ensure_2d, allow_nd, ensure_min_samples, ensure_min_features, warn_on_dtype, estimator)\u001b[0m\n\u001b[1;32m    414\u001b[0m                              \u001b[0;34m\" minimum of %d is required%s.\"\u001b[0m\u001b[0;34m\u001b[0m\u001b[0m\n\u001b[1;32m    415\u001b[0m                              % (n_samples, shape_repr, ensure_min_samples,\n\u001b[0;32m--> 416\u001b[0;31m                                 context))\n\u001b[0m\u001b[1;32m    417\u001b[0m \u001b[0;34m\u001b[0m\u001b[0m\n\u001b[1;32m    418\u001b[0m     \u001b[0;32mif\u001b[0m \u001b[0mensure_min_features\u001b[0m \u001b[0;34m>\u001b[0m \u001b[0;36m0\u001b[0m \u001b[0;32mand\u001b[0m \u001b[0marray\u001b[0m\u001b[0;34m.\u001b[0m\u001b[0mndim\u001b[0m \u001b[0;34m==\u001b[0m \u001b[0;36m2\u001b[0m\u001b[0;34m:\u001b[0m\u001b[0;34m\u001b[0m\u001b[0m\n",
      "\u001b[0;31mValueError\u001b[0m: Found array with 0 sample(s) (shape=(0, 5)) while a minimum of 1 is required."
     ]
    }
   ],
   "source": [
    "#first, split into late night and not\n",
    "late_night_train = train_data.loc[(train_data.hour <= 3) | (train_data.hour >= 20), :]\n",
    "day_train = train_data.loc[(train_data.hour > 3) & (train_data.hour < 20), :]\n",
    "\n",
    "late_night_dev = dev_data.loc[(dev_data.hour <= 3) | (dev_data.hour >= 20), :]\n",
    "day_dev = dev_data.loc[(dev_data.hour > 3) & (dev_data.hour < 20), :]\n",
    "\n",
    "\n",
    "#Transform each of the late night and day datasets\n",
    "late_night_train_transformed = fu.fit_transform(late_night_train)\n",
    "late_night_train_transformed_df = pd.DataFrame(late_night_train_transformed)\n",
    "\n",
    "day_train_transformed = fu.fit_transform(day_train)\n",
    "day_train_transformed_df = pd.DataFrame(day_train_transformed)\n",
    "\n",
    "late_night_dev_transformed = fu.fit_transform(late_night_dev)\n",
    "late_night_dev_transformed_df = pd.DataFrame(late_night_dev_transformed)\n",
    "\n",
    "day_dev_transformed = fu.fit_transform(day_dev)\n",
    "day_dev_transformed_df = pd.DataFrame(day_dev_transformed)\n",
    "\n"
   ]
  },
  {
   "cell_type": "code",
   "execution_count": 123,
   "metadata": {
    "collapsed": false
   },
   "outputs": [
    {
     "data": {
      "text/plain": [
       "(8164, 19)"
      ]
     },
     "execution_count": 123,
     "metadata": {},
     "output_type": "execute_result"
    }
   ],
   "source": [
    "#first, split into late night and not\n",
    "late_night_train = train_data.loc[train_data.hour > 3.,]\n",
    "day_train = train_data.loc[(train_data.hour > 3) & (train_data.hour < 20), :]\n",
    "\n",
    "late_night_train.shape\n"
   ]
  },
  {
   "cell_type": "code",
   "execution_count": 124,
   "metadata": {
    "collapsed": false
   },
   "outputs": [
    {
     "data": {
      "text/plain": [
       "dtype('O')"
      ]
     },
     "execution_count": 124,
     "metadata": {},
     "output_type": "execute_result"
    }
   ],
   "source": [
    "train_data.hour.dtype"
   ]
  },
  {
   "cell_type": "code",
   "execution_count": null,
   "metadata": {
    "collapsed": true
   },
   "outputs": [],
   "source": [
    "\n",
    "\n",
    "#Next, train a separate classifier for late night and not late night\n",
    "#instantiate the adaboost regressor\n",
    "ab_late = AdaBoostRegressor(n_estimators = 20, learning_rate = 1.5, base_estimator = dt)\n",
    "ab_day = AdaBoostRegressor(n_estimators = 20, learning_rate = 1.5, base_estimator = dt)\n",
    "\n",
    "#fit the classifier for casual rentals\n",
    "ab_late.fit(late_night_train_transformed_df, late_night_train['count'])\n",
    "ab_day.fit(day_train_transformed_df, day_train['count'])\n",
    "\n",
    "#predict the training data and testing data\n",
    "preds_late_train = ab_late.predict(X_train_transformed_df)\n",
    "preds_late_dev = ab_late.predict(X_dev_transformed_df)\n",
    "\n",
    "preds_day_train = ab_day.predict(X_train_transformed_df)\n",
    "preds_day_dev = ab_day.predict(X_dev_transformed_df)\n",
    "\n",
    "#create combined predictions\n",
    "train_data_copy = train_data.copy()\n",
    "dev_data_copy = dev_data.copy()\n",
    "\n",
    "train_data_copy['late_prediction'] = preds_late_train\n",
    "train_data_copy['day_prediction'] = preds_day_train\n",
    "\n",
    "dev_data_copy['late_prediction'] = preds_late_dev\n",
    "dev_data_copy['day_prediction'] = preds_day_dev\n",
    "\n",
    "#create combined prediction\n",
    "train_data_copy['combined_prediction'] = np.where((train_data_copy.hour <= 3) | (train_data_copy.hour >= 20)=='Z',\\\n",
    "                                                  train_data_copy.late_prediction, train_data_copy.day_prediction)\n",
    "dev_data_copy['combined_prediction'] = np.where((dev_data_copy.hour <= 3) | (dev_data_copy.hour >= 20)=='Z',\\\n",
    "                                                  dev_data_copy.late_prediction, dev_data_copy.day_prediction)\n",
    "\n",
    "\n",
    "\n"
   ]
  },
  {
   "cell_type": "code",
   "execution_count": 106,
   "metadata": {
    "collapsed": false
   },
   "outputs": [
    {
     "data": {
      "text/plain": [
       "(2726, 21)"
      ]
     },
     "execution_count": 106,
     "metadata": {},
     "output_type": "execute_result"
    }
   ],
   "source": [
    "late_night_train_transformed_df.shape\n",
    "#day_train_transformed_df.shape"
   ]
  },
  {
   "cell_type": "code",
   "execution_count": 95,
   "metadata": {
    "collapsed": false
   },
   "outputs": [],
   "source": [
    "#actual\n",
    "actual_train = train_data['count']\n",
    "actual_dev = dev_data['count']\n",
    "\n",
    "#Get RMSE for train and de data\n",
    "RMSE_train = get_RMSE(actual_values = actual_train, predicted_values = preds_train)\n",
    "print \"Train Data Root Mean Squared Error: \" + str(RMSE_train)\n",
    "\n",
    "RMSE_dev = get_RMSE(actual_values = actual_dev, predicted_values = preds_dev)\n",
    "print \"dev Data Root Mean Squared Error: \" + str(RMSE_dev)\n",
    "#Do for train and dev:\n",
    "\n",
    "#Create predictions for each example using each regressor\n",
    "\n",
    "#Create combined predictions based on whether the example is late night or not\n"
   ]
  },
  {
   "cell_type": "markdown",
   "metadata": {
    "collapsed": true
   },
   "source": [
    "#### Error Analysis"
   ]
  },
  {
   "cell_type": "code",
   "execution_count": 19,
   "metadata": {
    "collapsed": false
   },
   "outputs": [
    {
     "data": {
      "text/html": [
       "<div>\n",
       "<table border=\"1\" class=\"dataframe\">\n",
       "  <thead>\n",
       "    <tr style=\"text-align: right;\">\n",
       "      <th></th>\n",
       "      <th>weather</th>\n",
       "      <th>temp</th>\n",
       "      <th>atemp</th>\n",
       "      <th>humidity</th>\n",
       "      <th>windspeed</th>\n",
       "      <th>casual</th>\n",
       "      <th>registered</th>\n",
       "      <th>count</th>\n",
       "      <th>prog_age</th>\n",
       "      <th>hour</th>\n",
       "      <th>raw_error</th>\n",
       "      <th>abs_error</th>\n",
       "      <th>abs_error_rank</th>\n",
       "    </tr>\n",
       "  </thead>\n",
       "  <tbody>\n",
       "    <tr>\n",
       "      <th>count</th>\n",
       "      <td>178.000000</td>\n",
       "      <td>178.000000</td>\n",
       "      <td>178.000000</td>\n",
       "      <td>178.000000</td>\n",
       "      <td>178.000000</td>\n",
       "      <td>178.000000</td>\n",
       "      <td>178.000000</td>\n",
       "      <td>178.000000</td>\n",
       "      <td>178.000000</td>\n",
       "      <td>178.000000</td>\n",
       "      <td>178.000000</td>\n",
       "      <td>178.000000</td>\n",
       "      <td>178.000000</td>\n",
       "    </tr>\n",
       "    <tr>\n",
       "      <th>mean</th>\n",
       "      <td>1.910112</td>\n",
       "      <td>23.991910</td>\n",
       "      <td>27.843230</td>\n",
       "      <td>67.500000</td>\n",
       "      <td>15.129466</td>\n",
       "      <td>84.876404</td>\n",
       "      <td>279.921348</td>\n",
       "      <td>364.797753</td>\n",
       "      <td>463.729869</td>\n",
       "      <td>14.280899</td>\n",
       "      <td>4.704522</td>\n",
       "      <td>77.737725</td>\n",
       "      <td>89.500000</td>\n",
       "    </tr>\n",
       "    <tr>\n",
       "      <th>std</th>\n",
       "      <td>0.852255</td>\n",
       "      <td>5.746321</td>\n",
       "      <td>6.214497</td>\n",
       "      <td>21.281076</td>\n",
       "      <td>8.885820</td>\n",
       "      <td>94.473482</td>\n",
       "      <td>185.133589</td>\n",
       "      <td>228.258362</td>\n",
       "      <td>173.737844</td>\n",
       "      <td>4.894338</td>\n",
       "      <td>81.783194</td>\n",
       "      <td>25.168480</td>\n",
       "      <td>51.528227</td>\n",
       "    </tr>\n",
       "    <tr>\n",
       "      <th>min</th>\n",
       "      <td>1.000000</td>\n",
       "      <td>9.840000</td>\n",
       "      <td>12.880000</td>\n",
       "      <td>0.000000</td>\n",
       "      <td>0.000000</td>\n",
       "      <td>1.000000</td>\n",
       "      <td>9.000000</td>\n",
       "      <td>13.000000</td>\n",
       "      <td>48.750000</td>\n",
       "      <td>0.000000</td>\n",
       "      <td>-155.260000</td>\n",
       "      <td>55.370000</td>\n",
       "      <td>1.000000</td>\n",
       "    </tr>\n",
       "    <tr>\n",
       "      <th>25%</th>\n",
       "      <td>1.000000</td>\n",
       "      <td>20.500000</td>\n",
       "      <td>24.240000</td>\n",
       "      <td>53.000000</td>\n",
       "      <td>8.998100</td>\n",
       "      <td>13.000000</td>\n",
       "      <td>109.000000</td>\n",
       "      <td>125.750000</td>\n",
       "      <td>342.739583</td>\n",
       "      <td>9.250000</td>\n",
       "      <td>-67.222500</td>\n",
       "      <td>62.397500</td>\n",
       "      <td>45.250000</td>\n",
       "    </tr>\n",
       "    <tr>\n",
       "      <th>50%</th>\n",
       "      <td>2.000000</td>\n",
       "      <td>25.420000</td>\n",
       "      <td>29.545000</td>\n",
       "      <td>73.000000</td>\n",
       "      <td>15.001300</td>\n",
       "      <td>48.000000</td>\n",
       "      <td>254.500000</td>\n",
       "      <td>369.500000</td>\n",
       "      <td>496.250000</td>\n",
       "      <td>16.000000</td>\n",
       "      <td>55.987500</td>\n",
       "      <td>69.717500</td>\n",
       "      <td>89.500000</td>\n",
       "    </tr>\n",
       "    <tr>\n",
       "      <th>75%</th>\n",
       "      <td>3.000000</td>\n",
       "      <td>27.880000</td>\n",
       "      <td>31.820000</td>\n",
       "      <td>84.000000</td>\n",
       "      <td>19.999500</td>\n",
       "      <td>137.000000</td>\n",
       "      <td>385.250000</td>\n",
       "      <td>562.000000</td>\n",
       "      <td>606.510417</td>\n",
       "      <td>18.000000</td>\n",
       "      <td>72.787500</td>\n",
       "      <td>82.618750</td>\n",
       "      <td>133.750000</td>\n",
       "    </tr>\n",
       "    <tr>\n",
       "      <th>max</th>\n",
       "      <td>3.000000</td>\n",
       "      <td>39.360000</td>\n",
       "      <td>42.425000</td>\n",
       "      <td>100.000000</td>\n",
       "      <td>56.996900</td>\n",
       "      <td>367.000000</td>\n",
       "      <td>807.000000</td>\n",
       "      <td>892.000000</td>\n",
       "      <td>718.333333</td>\n",
       "      <td>23.000000</td>\n",
       "      <td>219.900000</td>\n",
       "      <td>219.900000</td>\n",
       "      <td>178.000000</td>\n",
       "    </tr>\n",
       "  </tbody>\n",
       "</table>\n",
       "</div>"
      ],
      "text/plain": [
       "          weather        temp       atemp    humidity   windspeed      casual  \\\n",
       "count  178.000000  178.000000  178.000000  178.000000  178.000000  178.000000   \n",
       "mean     1.910112   23.991910   27.843230   67.500000   15.129466   84.876404   \n",
       "std      0.852255    5.746321    6.214497   21.281076    8.885820   94.473482   \n",
       "min      1.000000    9.840000   12.880000    0.000000    0.000000    1.000000   \n",
       "25%      1.000000   20.500000   24.240000   53.000000    8.998100   13.000000   \n",
       "50%      2.000000   25.420000   29.545000   73.000000   15.001300   48.000000   \n",
       "75%      3.000000   27.880000   31.820000   84.000000   19.999500  137.000000   \n",
       "max      3.000000   39.360000   42.425000  100.000000   56.996900  367.000000   \n",
       "\n",
       "       registered       count    prog_age        hour   raw_error   abs_error  \\\n",
       "count  178.000000  178.000000  178.000000  178.000000  178.000000  178.000000   \n",
       "mean   279.921348  364.797753  463.729869   14.280899    4.704522   77.737725   \n",
       "std    185.133589  228.258362  173.737844    4.894338   81.783194   25.168480   \n",
       "min      9.000000   13.000000   48.750000    0.000000 -155.260000   55.370000   \n",
       "25%    109.000000  125.750000  342.739583    9.250000  -67.222500   62.397500   \n",
       "50%    254.500000  369.500000  496.250000   16.000000   55.987500   69.717500   \n",
       "75%    385.250000  562.000000  606.510417   18.000000   72.787500   82.618750   \n",
       "max    807.000000  892.000000  718.333333   23.000000  219.900000  219.900000   \n",
       "\n",
       "       abs_error_rank  \n",
       "count      178.000000  \n",
       "mean        89.500000  \n",
       "std         51.528227  \n",
       "min          1.000000  \n",
       "25%         45.250000  \n",
       "50%         89.500000  \n",
       "75%        133.750000  \n",
       "max        178.000000  "
      ]
     },
     "execution_count": 19,
     "metadata": {},
     "output_type": "execute_result"
    }
   ],
   "source": [
    "#Predictions with the largest absolute error\n",
    "train_errors = preds_train - np.array(actual_train)\n",
    "\n",
    "#merge train errors with training data\n",
    "train_errors_df = train_data\n",
    "train_errors_df['raw_error'] = train_errors\n",
    "\n",
    "train_errors_df['abs_error'] = abs(train_errors_df.raw_error)\n",
    "\n",
    "#rank observations by absolute value of error\n",
    "train_errors_df['abs_error_rank'] = train_errors_df.abs_error.rank(ascending = False)\n",
    "train_errors_df['hour'] = train_errors_df.hour.astype(float)\n",
    "\n",
    "\n",
    "#get the worst ~20% of errors\n",
    "train_errors_df = train_errors_df.sort_values(by = 'abs_error_rank', axis = 0)\n",
    "worst_errors = train_errors_df.loc[:1600,]\n",
    "OK_predictions = train_errors_df.loc[1600:,]\n",
    "\n",
    "worst_errors.describe()"
   ]
  },
  {
   "cell_type": "code",
   "execution_count": 20,
   "metadata": {
    "collapsed": false
   },
   "outputs": [
    {
     "data": {
      "image/png": "[encoded data removed]",
      "text/plain": [
       "<matplotlib.figure.Figure at 0x1036f6110>"
      ]
     },
     "metadata": {},
     "output_type": "display_data"
    }
   ],
   "source": [
    "#Look at various features in the worst errors compared to the overall dataset\n",
    "\n",
    "fig, axes = plt.subplots(nrows=2, ncols=3, sharex=False, sharey=False, figsize = (16,16))\n",
    "\n",
    "\n",
    "#count\n",
    "#The model does not seem to do well with high rental days - there is a higher concentration of higher rentals\n",
    "#in the worst errors than in the other predictions\n",
    "ax = fig.add_subplot(2,3,1)\n",
    "plt.subplot(2,3,1)\n",
    "OK_predictions['count'].plot(kind = 'density', label = 'OK Predictions Count')\n",
    "worst_errors['count'].plot(kind = 'density', label = 'Worst Errors Count')\n",
    "plt.legend(loc=1, ncol=1)\n",
    "plt.title('Worst Errors vs. OK Predictions \\n Count')\n",
    "\n",
    "\n",
    "\n",
    "#registered\n",
    "#The model does not seem to do well with high rental days - there is a higher concentration of higher rentals\n",
    "#in the worst errors than in the other predictions\n",
    "ax = fig.add_subplot(2,3,2)\n",
    "plt.subplot(2,3,2)\n",
    "OK_predictions['registered'].plot(kind = 'density', label = 'OK Predictions Count')\n",
    "worst_errors['registered'].plot(kind = 'density', label = 'Worst Errors Count')\n",
    "plt.legend(loc=1, ncol=1)\n",
    "plt.xlabel('Registered Rentals')\n",
    "plt.title('Worst Errors vs. OK Predictions \\n Registered Rentals')\n",
    "\n",
    "\n",
    "#casual\n",
    "#The model seems to do pretty well with casual rentals - the distribution of casual rentals\n",
    "#in the worst predictions and the ok predictions look similar\n",
    "ax = fig.add_subplot(2,3,3)\n",
    "plt.subplot(2,3,3)\n",
    "OK_predictions['casual'].plot(kind = 'density', label = 'OK Predictions Count')\n",
    "worst_errors['casual'].plot(kind = 'density', label = 'Worst Errors Count')\n",
    "plt.legend(loc=1, ncol=1)\n",
    "plt.xlabel('Casual Rentals')\n",
    "plt.title('Worst Errors vs. OK Predictions \\n Casual Rentals')\n",
    "\n",
    "\n",
    "\n",
    "#Temp\n",
    "ax = fig.add_subplot(2,3,4)\n",
    "plt.subplot(2,3,4)\n",
    "OK_predictions['temp'].plot(kind = 'density', label = 'OK Predictions Temp')\n",
    "worst_errors['temp'].plot(kind = 'density', label = 'Worst Errors Temp')\n",
    "plt.legend(loc=1, ncol=1)\n",
    "plt.xlabel('Degrees C')\n",
    "plt.title('Worst Errors vs. OK Predictions \\n Temp')\n",
    "\n",
    "\n",
    "#Hour\n",
    "ax = fig.add_subplot(2,3,5)\n",
    "plt.subplot(2,3,5)\n",
    "OK_predictions['hour'].plot(kind = 'density', label = 'OK Predictions Hour')\n",
    "worst_errors['hour'].plot(kind = 'density', label = 'Worst Errors Hour')\n",
    "plt.legend(loc=1, ncol=1)\n",
    "plt.xlabel('Hour')\n",
    "plt.title('Worst Errors vs. OK Predictions \\n Hour')\n",
    "\n",
    "\n",
    "\n",
    "#Program age\n",
    "ax = fig.add_subplot(2,3,6)\n",
    "plt.subplot(2,3,6)\n",
    "OK_predictions['prog_age'].plot(kind = 'density', label = 'OK Predictions Program Age')\n",
    "worst_errors['prog_age'].plot(kind = 'density', label = 'Worst Errors Program Age')\n",
    "plt.legend(loc=2, ncol=1)\n",
    "plt.xlabel('Program Age')\n",
    "plt.title('Worst Errors vs. OK Predictions \\n Program Age')\n",
    "\n",
    "\n",
    "plt.tight_layout()\n",
    "    \n",
    "plt.show()\n",
    "\n",
    "\n"
   ]
  },
  {
   "cell_type": "markdown",
   "metadata": {
    "collapsed": true
   },
   "source": [
    "## Try fitting a model to split into low and high rentals"
   ]
  },
  {
   "cell_type": "code",
   "execution_count": 45,
   "metadata": {
    "collapsed": false
   },
   "outputs": [
    {
     "name": "stderr",
     "output_type": "stream",
     "text": [
      "/Users/nwchen24/anaconda/envs/Machine_learning_python2/lib/python2.7/site-packages/ipykernel/__main__.py:3: SettingWithCopyWarning: \n",
      "A value is trying to be set on a copy of a slice from a DataFrame.\n",
      "Try using .loc[row_indexer,col_indexer] = value instead\n",
      "\n",
      "See the caveats in the documentation: http://pandas.pydata.org/pandas-docs/stable/indexing.html#indexing-view-versus-copy\n",
      "  app.launch_new_instance()\n",
      "/Users/nwchen24/anaconda/envs/Machine_learning_python2/lib/python2.7/site-packages/ipykernel/__main__.py:20: SettingWithCopyWarning: \n",
      "A value is trying to be set on a copy of a slice from a DataFrame.\n",
      "Try using .loc[row_indexer,col_indexer] = value instead\n",
      "\n",
      "See the caveats in the documentation: http://pandas.pydata.org/pandas-docs/stable/indexing.html#indexing-view-versus-copy\n"
     ]
    }
   ],
   "source": [
    "#First, create a new flag that indicates 'low' rentals or 'high' rentals\n",
    "train_data['low_count_flag'] = np.where(train_data['count'] < 43, 1, 0)\n",
    "dev_data['low_count_flag'] = np.where(dev_data['count'] < 43, 1, 0)\n",
    "\n",
    "train_data.head()\n",
    "dev_data.head()\n",
    "\n",
    "#instantiate random forest classifier\n",
    "rf_low_high = RandomForestClassifier(max_depth = 30, n_estimators = 200)\n",
    "\n",
    "#fit the classifier for casual rentals\n",
    "rf_low_high.fit(X_train_transformed_df, train_data['low_count_flag'])\n",
    "\n",
    "#predict the training data and testing data\n",
    "preds_train = rf_low_high.predict(X_train_transformed_df)\n",
    "preds_dev = rf_low_high.predict(X_dev_transformed_df)\n",
    "\n",
    "#Calculate accuracy\n",
    "train_data['low_count_flag_prediction'] = preds_train\n",
    "dev_data['low_count_flag_prediction'] = preds_dev\n"
   ]
  },
  {
   "cell_type": "code",
   "execution_count": 47,
   "metadata": {
    "collapsed": false
   },
   "outputs": [
    {
     "name": "stdout",
     "output_type": "stream",
     "text": [
      "Dev Data Accuracy0.959221160911\n"
     ]
    }
   ],
   "source": [
    "len(train_data[(train_data['low_count_flag'] == train_data['low_count_flag_prediction'])])\n",
    "\n",
    "print \"Dev Data Accuracy\" +\\\n",
    "str(float(len(dev_data[(dev_data['low_count_flag'] == dev_data['low_count_flag_prediction'])])) / float(dev_data.shape[0]))\n"
   ]
  },
  {
   "cell_type": "code",
   "execution_count": null,
   "metadata": {
    "collapsed": true
   },
   "outputs": [],
   "source": []
  },
  {
   "cell_type": "code",
   "execution_count": null,
   "metadata": {
    "collapsed": true
   },
   "outputs": [],
   "source": []
  },
  {
   "cell_type": "code",
   "execution_count": 51,
   "metadata": {
    "collapsed": false
   },
   "outputs": [
    {
     "data": {
      "text/html": [
       "<div>\n",
       "<table border=\"1\" class=\"dataframe\">\n",
       "  <thead>\n",
       "    <tr style=\"text-align: right;\">\n",
       "      <th></th>\n",
       "      <th>datetime</th>\n",
       "      <th>count</th>\n",
       "    </tr>\n",
       "  </thead>\n",
       "  <tbody>\n",
       "    <tr>\n",
       "      <th>0</th>\n",
       "      <td>2011-01-20 00:00:00</td>\n",
       "      <td>11.410</td>\n",
       "    </tr>\n",
       "    <tr>\n",
       "      <th>1</th>\n",
       "      <td>2011-01-20 01:00:00</td>\n",
       "      <td>6.450</td>\n",
       "    </tr>\n",
       "    <tr>\n",
       "      <th>2</th>\n",
       "      <td>2011-01-20 02:00:00</td>\n",
       "      <td>5.250</td>\n",
       "    </tr>\n",
       "    <tr>\n",
       "      <th>3</th>\n",
       "      <td>2011-01-20 03:00:00</td>\n",
       "      <td>4.750</td>\n",
       "    </tr>\n",
       "    <tr>\n",
       "      <th>4</th>\n",
       "      <td>2011-01-20 04:00:00</td>\n",
       "      <td>2.505</td>\n",
       "    </tr>\n",
       "  </tbody>\n",
       "</table>\n",
       "</div>"
      ],
      "text/plain": [
       "             datetime   count\n",
       "0 2011-01-20 00:00:00  11.410\n",
       "1 2011-01-20 01:00:00   6.450\n",
       "2 2011-01-20 02:00:00   5.250\n",
       "3 2011-01-20 03:00:00   4.750\n",
       "4 2011-01-20 04:00:00   2.505"
      ]
     },
     "execution_count": 51,
     "metadata": {},
     "output_type": "execute_result"
    }
   ],
   "source": [
    "#export testing data results\n",
    "\n",
    "#first change the working directory\n",
    "os.chdir(\"/Users/nwchen24/Desktop/UC_Berkeley/machine_learning/final_project_github_repo/w207_kaggleproject/NC_work/Output/\")\n",
    "\n",
    "#convert test predictions to DataFrame\n",
    "preds_test_df = pd.DataFrame(preds_test, columns = ['count'])\n",
    "\n",
    "#add column with datetime\n",
    "preds_test_df['datetime'] = test_data['datetime']\n",
    "\n",
    "#re-order columns\n",
    "preds_test_df = preds_test_df[['datetime', 'count']]\n",
    "\n",
    "#export to CSV\n",
    "preds_test_df.to_csv('NC_submission_1.csv', index = False)\n",
    "\n",
    "preds_test_df.head()"
   ]
  },
  {
   "cell_type": "code",
   "execution_count": null,
   "metadata": {
    "collapsed": true
   },
   "outputs": [],
   "source": []
  }
 ],
 "metadata": {
  "anaconda-cloud": {},
  "kernelspec": {
   "display_name": "Python [conda env:Machine_learning_python2]",
   "language": "python",
   "name": "conda-env-Machine_learning_python2-py"
  },
  "language_info": {
   "codemirror_mode": {
    "name": "ipython",
    "version": 2
   },
   "file_extension": ".py",
   "mimetype": "text/x-python",
   "name": "python",
   "nbconvert_exporter": "python",
   "pygments_lexer": "ipython2",
   "version": "2.7.13"
  }
 },
 "nbformat": 4,
 "nbformat_minor": 1
}
